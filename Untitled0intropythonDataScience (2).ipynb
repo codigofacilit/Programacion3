{
 "cells": [
  {
   "cell_type": "markdown",
   "metadata": {
    "id": "9c1CmQbNz_Y-"
   },
   "source": [
    "##  mi primerra clase de python\n"
   ]
  },
  {
   "cell_type": "code",
   "execution_count": null,
   "metadata": {
    "colab": {
     "base_uri": "https://localhost:8080/"
    },
    "id": "B6VE1TxK0IYI",
    "outputId": "157e9f12-53c6-494a-d4d4-9b77192d8cd3"
   },
   "outputs": [
    {
     "data": {
      "text/plain": [
       "3"
      ]
     },
     "execution_count": 2,
     "metadata": {},
     "output_type": "execute_result"
    }
   ],
   "source": [
    "1+2"
   ]
  },
  {
   "cell_type": "markdown",
   "metadata": {
    "id": "w75Rk95L1ay8"
   },
   "source": [
    "## logica de programacion con python"
   ]
  },
  {
   "cell_type": "code",
   "execution_count": null,
   "metadata": {
    "id": "0uYAC7Zd1wmq"
   },
   "outputs": [],
   "source": [
    "nombre = \"juan pablo\""
   ]
  },
  {
   "cell_type": "code",
   "execution_count": null,
   "metadata": {
    "colab": {
     "base_uri": "https://localhost:8080/"
    },
    "id": "wVpVN2kK15t6",
    "outputId": "dbeee604-51f6-4597-b864-51b0a8e642cc"
   },
   "outputs": [
    {
     "data": {
      "application/vnd.google.colaboratory.intrinsic+json": {
       "type": "string"
      },
      "text/plain": [
       "'juan pablo'"
      ]
     },
     "execution_count": 6,
     "metadata": {},
     "output_type": "execute_result"
    }
   ],
   "source": [
    "nombre"
   ]
  },
  {
   "cell_type": "code",
   "execution_count": null,
   "metadata": {
    "colab": {
     "base_uri": "https://localhost:8080/"
    },
    "id": "b2zeP42v2q3C",
    "outputId": "774ab1ac-dcec-41f8-b003-20f54b2d661f"
   },
   "outputs": [
    {
     "data": {
      "text/plain": [
       "28"
      ]
     },
     "execution_count": 7,
     "metadata": {},
     "output_type": "execute_result"
    }
   ],
   "source": [
    "edad = 28\n",
    "edad"
   ]
  },
  {
   "cell_type": "code",
   "execution_count": null,
   "metadata": {
    "colab": {
     "base_uri": "https://localhost:8080/"
    },
    "id": "XnKwQzla28HK",
    "outputId": "66e0c958-9092-4cc2-f7b6-741d344f5df3"
   },
   "outputs": [
    {
     "name": "stdout",
     "output_type": "stream",
     "text": [
      "el nombre s juan pablo y su edaD ES 28 años .\n"
     ]
    }
   ],
   "source": [
    "print(f'el nombre s {nombre } y su edaD ES {edad} años .'  )"
   ]
  },
  {
   "cell_type": "code",
   "execution_count": null,
   "metadata": {
    "id": "sdTN8oyc3nIx"
   },
   "outputs": [],
   "source": [
    "edad=29\n"
   ]
  },
  {
   "cell_type": "markdown",
   "metadata": {
    "id": "pj8VqUydyxFi"
   },
   "source": []
  },
  {
   "cell_type": "code",
   "execution_count": null,
   "metadata": {
    "colab": {
     "base_uri": "https://localhost:8080/"
    },
    "id": "4lT2s_wf3vMa",
    "outputId": "ca6ff48a-62da-4ed8-a7f8-6f6fbfd10357"
   },
   "outputs": [
    {
     "name": "stdout",
     "output_type": "stream",
     "text": [
      "El nombre es juan pablo y su edad es 28 años.\n"
     ]
    }
   ],
   "source": [
    "print(f'El nombre es {nombre} y su edad es {edad} años.')"
   ]
  },
  {
   "cell_type": "markdown",
   "metadata": {
    "id": "kz9QSl9e4Jdl"
   },
   "source": [
    "## creando mi primera funcon"
   ]
  },
  {
   "cell_type": "code",
   "execution_count": null,
   "metadata": {
    "id": "V9LEI0lh4Pg5"
   },
   "outputs": [],
   "source": [
    "def saludos ():\n",
    "  nombre= input('Cual es su nombre?' )\n",
    "  print(f'Hola {nombre}.')"
   ]
  },
  {
   "cell_type": "code",
   "execution_count": null,
   "metadata": {
    "colab": {
     "base_uri": "https://localhost:8080/"
    },
    "id": "U4bRRRJ84sc6",
    "outputId": "f8bb400d-9b16-4111-f74c-3d9ce39eb37a"
   },
   "outputs": [
    {
     "name": "stdout",
     "output_type": "stream",
     "text": [
      "Cual es su nombre?juan\n",
      "Hola juan.\n"
     ]
    }
   ],
   "source": [
    "saludos()"
   ]
  },
  {
   "cell_type": "markdown",
   "metadata": {
    "id": "w7JXt29k5wdx"
   },
   "source": []
  },
  {
   "cell_type": "markdown",
   "metadata": {
    "id": "vrRa5uRq5yeY"
   },
   "source": [
    "## parametros"
   ]
  },
  {
   "cell_type": "code",
   "execution_count": null,
   "metadata": {
    "id": "1bphDIx751L6"
   },
   "outputs": [],
   "source": [
    "nombre = 'juan'\n",
    "def saludos_con_parametros(nombre_de_la_persona):\n",
    "  print(f'Hola {saludos_con_parametros}.')"
   ]
  },
  {
   "cell_type": "code",
   "execution_count": null,
   "metadata": {
    "colab": {
     "base_uri": "https://localhost:8080/"
    },
    "id": "Gl8QTCry6j64",
    "outputId": "fd0fa8cc-2010-4dde-f7a2-0f7f7cf675b3"
   },
   "outputs": [
    {
     "data": {
      "text/plain": [
       "<function __main__.saludos_con_parametros(nombre_de_la_persona)>"
      ]
     },
     "execution_count": 50,
     "metadata": {},
     "output_type": "execute_result"
    }
   ],
   "source": [
    "saludos_con_parametros"
   ]
  },
  {
   "cell_type": "markdown",
   "metadata": {
    "id": "bAjEZndi60eQ"
   },
   "source": [
    "## condicionales"
   ]
  },
  {
   "cell_type": "code",
   "execution_count": null,
   "metadata": {
    "colab": {
     "base_uri": "https://localhost:8080/"
    },
    "id": "FbeVNGNm60Qq",
    "outputId": "bb5e0ac6-7ea1-45db-f253-862e47d61506"
   },
   "outputs": [
    {
     "name": "stdout",
     "output_type": "stream",
     "text": [
      "tiene autorizacion para conducir \n"
     ]
    }
   ],
   "source": [
    "edad =23\n",
    "def verifica_si_puede_conducir(edad):\n",
    "  if edad >= 18:\n",
    "    print('tiene autorizacion para conducir ')\n",
    "  else:\n",
    "    print ('No tiene autorizacion para conducir')\n",
    "\n",
    "verifica_si_puede_conducir(edad)"
   ]
  },
  {
   "cell_type": "markdown",
   "metadata": {
    "id": "r_hm2Cfy8kkH"
   },
   "source": [
    "## convirtiendo tipo  entero\n"
   ]
  },
  {
   "cell_type": "code",
   "execution_count": null,
   "metadata": {
    "colab": {
     "base_uri": "https://localhost:8080/"
    },
    "id": "qBCxh7D48oR2",
    "outputId": "20721857-504d-44fa-f78b-e2162785fbe7"
   },
   "outputs": [
    {
     "name": "stdout",
     "output_type": "stream",
     "text": [
      "¿Cúal es su edad ?232\n",
      "tiene autorizacion para condfucir\n"
     ]
    }
   ],
   "source": [
    "def verifica_si_puede_conducir_sin_parametros():\n",
    "  edad = input ('¿Cúal es su edad ?')\n",
    "  edad = int(edad)\n",
    "  if edad >= 18:\n",
    "    print('tiene autorizacion para condfucir')\n",
    "  else:\n",
    "    print('no tiene autorizacion para condfucir')\n",
    "verifica_si_puede_conducir_sin_parametros()"
   ]
  },
  {
   "cell_type": "markdown",
   "metadata": {
    "id": "lS3YurFO-xZv"
   },
   "source": []
  },
  {
   "cell_type": "markdown",
   "metadata": {
    "id": "8QX2x8Dc-ydv"
   },
   "source": [
    "## listas\n"
   ]
  },
  {
   "cell_type": "code",
   "execution_count": null,
   "metadata": {
    "colab": {
     "base_uri": "https://localhost:8080/"
    },
    "id": "x5UtHu7V-0bG",
    "outputId": "e07aad1b-cf34-475e-950f-df0c881af6b3"
   },
   "outputs": [
    {
     "data": {
      "text/plain": [
       "22"
      ]
     },
     "execution_count": 65,
     "metadata": {},
     "output_type": "execute_result"
    }
   ],
   "source": [
    "edad = 22\n",
    "edad"
   ]
  },
  {
   "cell_type": "code",
   "execution_count": null,
   "metadata": {
    "colab": {
     "base_uri": "https://localhost:8080/"
    },
    "id": "QfhEvgm7_CCv",
    "outputId": "77f06495-913f-4943-f6b8-89142f472958"
   },
   "outputs": [
    {
     "data": {
      "text/plain": [
       "str"
      ]
     },
     "execution_count": 63,
     "metadata": {},
     "output_type": "execute_result"
    }
   ],
   "source": [
    "type(edad)"
   ]
  },
  {
   "cell_type": "code",
   "execution_count": null,
   "metadata": {
    "colab": {
     "base_uri": "https://localhost:8080/"
    },
    "id": "r3-YFPb5_HQj",
    "outputId": "9abea982-8448-4e64-fd37-53f09432a418"
   },
   "outputs": [
    {
     "data": {
      "text/plain": [
       "str"
      ]
     },
     "execution_count": 64,
     "metadata": {},
     "output_type": "execute_result"
    }
   ],
   "source": [
    "nombre = 'mauricio'\n",
    "type (nombre)"
   ]
  },
  {
   "cell_type": "code",
   "execution_count": null,
   "metadata": {
    "colab": {
     "base_uri": "https://localhost:8080/"
    },
    "id": "e0lvqt1j_7--",
    "outputId": "b8630df8-053b-4567-95aa-41923266a925"
   },
   "outputs": [
    {
     "data": {
      "text/plain": [
       "list"
      ]
     },
     "execution_count": 66,
     "metadata": {},
     "output_type": "execute_result"
    }
   ],
   "source": [
    "edades = [18, 22, 15, 50 ]\n",
    "type (edades)\n"
   ]
  },
  {
   "cell_type": "code",
   "execution_count": null,
   "metadata": {
    "colab": {
     "base_uri": "https://localhost:8080/"
    },
    "id": "-xdCe6YxAKGu",
    "outputId": "61e97189-bada-460d-913c-2e42bbdd14e0"
   },
   "outputs": [
    {
     "data": {
      "text/plain": [
       "15"
      ]
     },
     "execution_count": 67,
     "metadata": {},
     "output_type": "execute_result"
    }
   ],
   "source": [
    "edades[2]"
   ]
  },
  {
   "cell_type": "code",
   "execution_count": null,
   "metadata": {
    "id": "LxnCnGI6Acml"
   },
   "outputs": [],
   "source": [
    "edades  =[18, 22, 15, 50]\n",
    "#          0   1   2   3\n",
    "#          0  -3  -2  -1"
   ]
  },
  {
   "cell_type": "code",
   "execution_count": null,
   "metadata": {
    "colab": {
     "base_uri": "https://localhost:8080/"
    },
    "id": "BtssIiv_A8lG",
    "outputId": "d8904896-f4dd-4c3f-c465-d2c4e81f4e8f"
   },
   "outputs": [
    {
     "data": {
      "text/plain": [
       "22"
      ]
     },
     "execution_count": 68,
     "metadata": {},
     "output_type": "execute_result"
    }
   ],
   "source": [
    "edades[1]"
   ]
  },
  {
   "cell_type": "code",
   "execution_count": null,
   "metadata": {
    "colab": {
     "base_uri": "https://localhost:8080/"
    },
    "id": "Kpj6gmX9A-n9",
    "outputId": "92f58931-ce7e-4ed6-967e-9b5e20503dc8"
   },
   "outputs": [
    {
     "data": {
      "text/plain": [
       "[]"
      ]
     },
     "execution_count": 70,
     "metadata": {},
     "output_type": "execute_result"
    }
   ],
   "source": [
    "edades[0:4]"
   ]
  },
  {
   "cell_type": "code",
   "execution_count": null,
   "metadata": {
    "colab": {
     "base_uri": "https://localhost:8080/"
    },
    "id": "rqrf4V8eBrvL",
    "outputId": "3fe862e9-df20-478e-c511-df423fbb7f7d"
   },
   "outputs": [
    {
     "data": {
      "text/plain": [
       "[22, 15, 50]"
      ]
     },
     "execution_count": 71,
     "metadata": {},
     "output_type": "execute_result"
    }
   ],
   "source": [
    "edades[1:]"
   ]
  },
  {
   "cell_type": "code",
   "execution_count": null,
   "metadata": {
    "id": "HfzewC4ZCESs"
   },
   "outputs": [],
   "source": []
  },
  {
   "cell_type": "markdown",
   "metadata": {
    "id": "vesONxMaCUpT"
   },
   "source": [
    "## lazos y loops"
   ]
  },
  {
   "cell_type": "code",
   "execution_count": null,
   "metadata": {
    "colab": {
     "base_uri": "https://localhost:8080/"
    },
    "id": "6fRNyyc9CZ0f",
    "outputId": "efa5d2a3-b41c-474b-bc57-21350d394bb2"
   },
   "outputs": [
    {
     "name": "stdout",
     "output_type": "stream",
     "text": [
      "18 años de edad, Tiene autorizacion para conducir\n",
      "22 años de edad, Tiene autorizacion para conducir\n",
      "15 años de edad, No Tiene autorizacion para conducir\n",
      "50 años de edad, Tiene autorizacion para conducir\n"
     ]
    }
   ],
   "source": [
    "# fpr fuera de la funcion\n",
    "def vefiva_si_puede_conducir(edad):\n",
    "  if edad >= 18:\n",
    "    print(f'{edad } años de edad, Tiene autorizacion para conducir')\n",
    "  else:\n",
    "    print(f'{edad } años de edad, No Tiene autorizacion para conducir')\n",
    "for edad in edades:\n",
    "  vefiva_si_puede_conducir(edad)"
   ]
  },
  {
   "cell_type": "code",
   "execution_count": null,
   "metadata": {
    "colab": {
     "base_uri": "https://localhost:8080/"
    },
    "id": "5oiV9pb0EO6L",
    "outputId": "48a23597-d18a-44c4-b1e8-a8afba233781"
   },
   "outputs": [
    {
     "name": "stdout",
     "output_type": "stream",
     "text": [
      "18 años de edad, Tiene autorizacion para conducir\n",
      "22 años de edad, Tiene autorizacion para conducir\n",
      "15 años de edad, No Tiene autorizacion para conducir\n",
      "50 años de edad, Tiene autorizacion para conducir\n"
     ]
    }
   ],
   "source": [
    "\n",
    "def vefiva_si_puede_conducir(edad):\n",
    "  for edad in edades:\n",
    "    if edad >= 18:\n",
    "      print(f'{edad } años de edad, Tiene autorizacion para conducir')\n",
    "    else:\n",
    "      print(f'{edad } años de edad, No Tiene autorizacion para conducir')\n",
    "vefiva_si_puede_conducir(edad)"
   ]
  },
  {
   "cell_type": "code",
   "execution_count": null,
   "metadata": {
    "id": "s5zZKKiAEsIz"
   },
   "outputs": [],
   "source": []
  },
  {
   "cell_type": "markdown",
   "metadata": {
    "id": "4Nqn4DlfFgMK"
   },
   "source": [
    "## booleano"
   ]
  },
  {
   "cell_type": "code",
   "execution_count": null,
   "metadata": {
    "colab": {
     "base_uri": "https://localhost:8080/"
    },
    "id": "TxrDCmV-FjA0",
    "outputId": "49208884-bcad-40a3-9e0d-6aad97de843b"
   },
   "outputs": [
    {
     "data": {
      "text/plain": [
       "True"
      ]
     },
     "execution_count": 79,
     "metadata": {},
     "output_type": "execute_result"
    }
   ],
   "source": [
    " edad = 18\n",
    " edad >= 18"
   ]
  },
  {
   "cell_type": "code",
   "execution_count": null,
   "metadata": {
    "colab": {
     "base_uri": "https://localhost:8080/"
    },
    "id": "9nhJvzgWF7V7",
    "outputId": "aee0c49d-36e7-4c42-b3cd-6a626ae6c57d"
   },
   "outputs": [
    {
     "data": {
      "text/plain": [
       "False"
      ]
     },
     "execution_count": 80,
     "metadata": {},
     "output_type": "execute_result"
    }
   ],
   "source": [
    " edad = 15\n",
    " edad >=18"
   ]
  },
  {
   "cell_type": "code",
   "execution_count": null,
   "metadata": {
    "id": "Spq8sBuVF_5S"
   },
   "outputs": [],
   "source": [
    "autorizaciones = []\n",
    "edades = [20, 14, 40]\n",
    "def vefiva_si_puede_conducir (edades, autorizaciones):\n",
    "  for  edad in edades:\n",
    "     if edad >= 18 :\n",
    "       autorizaciones.append(True)\n",
    "     else:\n",
    "        autorizaciones.append(False)\n",
    "vefiva_si_puede_conducir(edades, autorizaciones)"
   ]
  },
  {
   "cell_type": "code",
   "execution_count": null,
   "metadata": {
    "colab": {
     "base_uri": "https://localhost:8080/"
    },
    "id": "joY9V2HfGz0i",
    "outputId": "b2de238d-771c-47c4-d75c-de01ca96078d"
   },
   "outputs": [
    {
     "data": {
      "text/plain": [
       "[True, False, True]"
      ]
     },
     "execution_count": 85,
     "metadata": {},
     "output_type": "execute_result"
    }
   ],
   "source": [
    "autorizaciones"
   ]
  },
  {
   "cell_type": "code",
   "execution_count": null,
   "metadata": {
    "colab": {
     "base_uri": "https://localhost:8080/"
    },
    "id": "sc1jCyL-HW5y",
    "outputId": "bad99d9e-9d9a-47b9-eed8-642040d59ece"
   },
   "outputs": [
    {
     "name": "stdout",
     "output_type": "stream",
     "text": [
      "tiene permiso para coducir \n",
      "tiene permiso para coducir \n",
      "tiene permiso para coducir \n"
     ]
    }
   ],
   "source": [
    " for autorizacion in autorizaciones:\n",
    "     if autorizacion == True :\n",
    "      print('tiene permiso para coducir ')\n",
    "     else:\n",
    "      print('tiene permiso para coducir ')\n"
   ]
  },
  {
   "cell_type": "code",
   "execution_count": null,
   "metadata": {
    "id": "2WGJHBFAHo3L"
   },
   "outputs": [],
   "source": []
  },
  {
   "cell_type": "markdown",
   "metadata": {
    "id": "TKNh6mmSH2MJ"
   },
   "source": [
    "## tipos en una lista"
   ]
  },
  {
   "cell_type": "code",
   "execution_count": null,
   "metadata": {
    "colab": {
     "base_uri": "https://localhost:8080/"
    },
    "id": "2kWSe8lIH6Jp",
    "outputId": "aeadc48a-8b69-49ef-d5b6-3d95d8e7fe26"
   },
   "outputs": [
    {
     "name": "stdout",
     "output_type": "stream",
     "text": [
      "el elemento Maurixio es del tipo: <class 'str'>\n",
      "el elemento 28 es del tipo: <class 'int'>\n",
      "el elemento True es del tipo: <class 'bool'>\n",
      "el elemento 18 es del tipo: <class 'str'>\n"
     ]
    }
   ],
   "source": [
    "lista =['Maurixio', 28, True, '18']\n",
    "for  elemento in lista:\n",
    "   print(f'el elemento {elemento } es del tipo:', type(elemento))"
   ]
  },
  {
   "cell_type": "code",
   "execution_count": null,
   "metadata": {
    "id": "jB4B2P2KIX8I"
   },
   "outputs": [],
   "source": []
  },
  {
   "cell_type": "markdown",
   "metadata": {
    "id": "n8qtfOe1It1y"
   },
   "source": [
    "## import"
   ]
  },
  {
   "cell_type": "code",
   "execution_count": null,
   "metadata": {
    "id": "0huzwnARIvmp"
   },
   "outputs": [],
   "source": [
    "from random import randrange, seed"
   ]
  },
  {
   "cell_type": "code",
   "execution_count": null,
   "metadata": {
    "id": "ogQobzRpI_8o"
   },
   "outputs": [],
   "source": [
    "seed(11)"
   ]
  },
  {
   "cell_type": "code",
   "execution_count": null,
   "metadata": {
    "colab": {
     "base_uri": "https://localhost:8080/"
    },
    "id": "p4C1tVelJBjo",
    "outputId": "348f9ded-f2ac-4da6-94a1-505ac88706ec"
   },
   "outputs": [
    {
     "data": {
      "text/plain": [
       "7"
      ]
     },
     "execution_count": 94,
     "metadata": {},
     "output_type": "execute_result"
    }
   ],
   "source": [
    "randrange(0,11)"
   ]
  },
  {
   "cell_type": "code",
   "execution_count": null,
   "metadata": {
    "colab": {
     "base_uri": "https://localhost:8080/"
    },
    "id": "kvMsSFn1JOZC",
    "outputId": "92d8b6b3-9ff0-4b40-b7e3-a92b07ac715d"
   },
   "outputs": [
    {
     "data": {
      "text/plain": [
       "[8, 7, 7, 8, 9, 3, 2, 8]"
      ]
     },
     "execution_count": 95,
     "metadata": {},
     "output_type": "execute_result"
    }
   ],
   "source": [
    "from decorator import decorate\n",
    "notas_matemarica = []\n",
    "for notas in range (8):\n",
    "   notas_matemarica.append(randrange(0,11))\n",
    "notas_matemarica"
   ]
  },
  {
   "cell_type": "code",
   "execution_count": null,
   "metadata": {
    "colab": {
     "base_uri": "https://localhost:8080/"
    },
    "id": "VkhQWu0UKKdx",
    "outputId": "efb558c9-ae7b-4ebc-8ecf-f55ec3223d0f"
   },
   "outputs": [
    {
     "data": {
      "text/plain": [
       "8"
      ]
     },
     "execution_count": 96,
     "metadata": {},
     "output_type": "execute_result"
    }
   ],
   "source": [
    "len(notas_matemarica)"
   ]
  },
  {
   "cell_type": "code",
   "execution_count": null,
   "metadata": {
    "id": "FpU5JAhWKSa4"
   },
   "outputs": [],
   "source": []
  },
  {
   "cell_type": "markdown",
   "metadata": {
    "id": "5GeB_xerKimD"
   },
   "source": [
    "## matplotlib\n"
   ]
  },
  {
   "cell_type": "code",
   "execution_count": null,
   "metadata": {
    "id": "vnMgciHTKmlb"
   },
   "outputs": [],
   "source": [
    "import matplotlib.pyplot as plt\n"
   ]
  },
  {
   "cell_type": "code",
   "execution_count": null,
   "metadata": {
    "colab": {
     "base_uri": "https://localhost:8080/",
     "height": 489
    },
    "id": "bJ9uj53RK2fv",
    "outputId": "1eb29222-6c0f-4b22-bac0-a746d4eaf7d4"
   },
   "outputs": [
    {
     "data": {
      "text/plain": [
       "<function matplotlib.pyplot.show(close=None, block=None)>"
      ]
     },
     "execution_count": 107,
     "metadata": {},
     "output_type": "execute_result"
    },
    {
     "data": {
      "image/png": "[encoded data removed]",
      "text/plain": [
       "<Figure size 640x480 with 1 Axes>"
      ]
     },
     "metadata": {},
     "output_type": "display_data"
    }
   ],
   "source": [
    "x = list(range(1, 9))\n",
    "y = notas_matemarica\n",
    "#plt.plot(x, y, marker='o' )\n",
    "plt.bar(x, y)\n",
    "plt.title('Notas de matematica')\n",
    "plt.xlabel('exámenes')\n",
    "plt.ylabel('notas')\n",
    "plt.show"
   ]
  },
  {
   "cell_type": "code",
   "execution_count": null,
   "metadata": {
    "colab": {
     "base_uri": "https://localhost:8080/"
    },
    "id": "f5cxno0dLjhi",
    "outputId": "b8e49141-d8db-4bbd-cdb8-2457dad7ba23"
   },
   "outputs": [
    {
     "data": {
      "text/plain": [
       "[8, 7, 7, 8, 9, 3, 2, 8]"
      ]
     },
     "execution_count": 108,
     "metadata": {},
     "output_type": "execute_result"
    }
   ],
   "source": [
    "notas_matemarica"
   ]
  },
  {
   "cell_type": "code",
   "execution_count": null,
   "metadata": {
    "id": "8u3Q26QmMuZI"
   },
   "outputs": [],
   "source": []
  },
  {
   "cell_type": "markdown",
   "metadata": {
    "id": "-VxVkfAvyyh4"
   },
   "source": [
    "## jupyter netebook, colab/kaggle, pycharm\n"
   ]
  },
  {
   "cell_type": "code",
   "execution_count": null,
   "metadata": {
    "colab": {
     "base_uri": "https://localhost:8080/"
    },
    "id": "UVny5wdH1Dcu",
    "outputId": "984295ac-df26-4f40-9994-14470cbb457d"
   },
   "outputs": [
    {
     "name": "stdout",
     "output_type": "stream",
     "text": [
      "brasil gano 5 tituñps deñ mundiañ de futbol \n"
     ]
    }
   ],
   "source": [
    "print(\"brasil gano 5 tituñps deñ mundial de futbol \")"
   ]
  },
  {
   "cell_type": "code",
   "execution_count": null,
   "metadata": {
    "colab": {
     "base_uri": "https://localhost:8080/"
    },
    "id": "mrPaeawQ1hV1",
    "outputId": "37028190-a7c7-408a-d0e2-1f42de88ca72"
   },
   "outputs": [
    {
     "name": "stdout",
     "output_type": "stream",
     "text": [
      "brasil gano 5 titulos deñ mundial de futbol \n"
     ]
    }
   ],
   "source": [
    "print(\"brasil gano 5 titulos deñ mundial de futbol \", sep='-')"
   ]
  },
  {
   "cell_type": "code",
   "execution_count": null,
   "metadata": {
    "colab": {
     "base_uri": "https://localhost:8080/"
    },
    "id": "FCk2CYge1Mxe",
    "outputId": "3ae56ddf-2609-4a14-e178-ddb2bce704f0"
   },
   "outputs": [
    {
     "name": "stdout",
     "output_type": "stream",
     "text": [
      "brasil-gano-5-titutlos  mundiales-de futbol \n"
     ]
    }
   ],
   "source": [
    "print('brasil', 'gano', 5, 'titutlos  mundiales', 'de futbol ' , sep='-')"
   ]
  },
  {
   "cell_type": "code",
   "execution_count": null,
   "metadata": {
    "colab": {
     "base_uri": "https://localhost:8080/"
    },
    "id": "g8omXZjx2AFr",
    "outputId": "f40b5202-8c31-4d30-bc6d-4c47fe02fcfa"
   },
   "outputs": [
    {
     "name": "stdout",
     "output_type": "stream",
     "text": [
      "brasil gano 5 titutlos  mundiales de futbol \n"
     ]
    }
   ],
   "source": [
    "print('brasil', 'gano', 5, 'titutlos  mundiales', 'de futbol ' , end='\\n')"
   ]
  },
  {
   "cell_type": "code",
   "execution_count": null,
   "metadata": {
    "id": "-kNf94R43IC4"
   },
   "outputs": [],
   "source": [
    "#pais=\"Argentina\"\n",
    "pais2= \"italia\"\n",
    "titulo=4"
   ]
  },
  {
   "cell_type": "code",
   "execution_count": null,
   "metadata": {
    "colab": {
     "base_uri": "https://localhost:8080/"
    },
    "id": "uQm9ANFq3nI2",
    "outputId": "04378bf6-3fce-456a-951e-4258d6b44306"
   },
   "outputs": [
    {
     "name": "stdout",
     "output_type": "stream",
     "text": [
      "italia gano 4 titutlos  mundiales de futbol \n"
     ]
    }
   ],
   "source": [
    "print(pais2, 'gano', titulo, 'titutlos  mundiales', 'de futbol ' )"
   ]
  },
  {
   "cell_type": "code",
   "execution_count": null,
   "metadata": {
    "colab": {
     "base_uri": "https://localhost:8080/"
    },
    "id": "-u-WNV5u3url",
    "outputId": "b68004ae-be69-45fd-e644-457764de02e9"
   },
   "outputs": [
    {
     "name": "stdout",
     "output_type": "stream",
     "text": [
      "====================================\n",
      "bienvenido al juego de adivinanza \n",
      "====================================\n",
      "digite un numero  77\n",
      "digitaste ...  77\n",
      "felicidades !!.. adivinaate el numero \n",
      "fin del juego\n"
     ]
    }
   ],
   "source": [
    "print(\"====================================\")\n",
    "print(\"bienvenido al juego de adivinanza \")\n",
    "print(\"====================================\")\n",
    "numero_secreto=77\n",
    "entrada = int( input(\"digite un numero  \"))\n",
    "print(\"digitaste ... \", entrada)\n",
    "if(entrada == numero_secreto):\n",
    "   print(\"felicidades !!.. adivinaate el numero \")\n",
    "else:\n",
    "   print(\"lo sinto ... no lograste adivinar el numero\")\n",
    "print(\"fin del juego\")"
   ]
  },
  {
   "cell_type": "markdown",
   "metadata": {
    "id": "OySijalQ7H_0"
   },
   "source": [
    "##  comparandi su las variables son del mismo tipo"
   ]
  },
  {
   "cell_type": "code",
   "execution_count": null,
   "metadata": {
    "colab": {
     "base_uri": "https://localhost:8080/"
    },
    "id": "ePXtm5Rf4yqt",
    "outputId": "ac0e7f95-6d6e-43fd-b076-553bca642a28"
   },
   "outputs": [
    {
     "data": {
      "text/plain": [
       "int"
      ]
     },
     "execution_count": 40,
     "metadata": {},
     "output_type": "execute_result"
    }
   ],
   "source": [
    "\n",
    "\n",
    "type(numero_secreto)"
   ]
  },
  {
   "cell_type": "code",
   "execution_count": null,
   "metadata": {
    "colab": {
     "base_uri": "https://localhost:8080/",
     "height": 36
    },
    "id": "h03qcjs17Qqk",
    "outputId": "fc8f344d-6cee-4b5c-8dc9-3fb8cb7458d2"
   },
   "outputs": [
    {
     "data": {
      "application/vnd.google.colaboratory.intrinsic+json": {
       "type": "string"
      },
      "text/plain": [
       "'77'"
      ]
     },
     "execution_count": 42,
     "metadata": {},
     "output_type": "execute_result"
    }
   ],
   "source": [
    "str(entrada)"
   ]
  },
  {
   "cell_type": "markdown",
   "metadata": {
    "id": "Sg6Ju-JR7gub"
   },
   "source": [
    "## guiar al usuario si el numero infresado fue mayor o menor al numero que se tiene que adivinar"
   ]
  },
  {
   "cell_type": "code",
   "execution_count": null,
   "metadata": {
    "colab": {
     "base_uri": "https://localhost:8080/"
    },
    "id": "oAIfEyyW7TMT",
    "outputId": "7b4b18be-bdca-4ff2-ae95-6455f214999b"
   },
   "outputs": [
    {
     "name": "stdout",
     "output_type": "stream",
     "text": [
      "====================================\n",
      "bienvenido al juego de adivinanza \n",
      "====================================\n"
     ]
    }
   ],
   "source": [
    "print(\"====================================\")\n",
    "print(\"bienvenido al juego de adivinanza \")\n",
    "print(\"====================================\")"
   ]
  },
  {
   "cell_type": "code",
   "execution_count": null,
   "metadata": {
    "colab": {
     "base_uri": "https://localhost:8080/"
    },
    "id": "V967Km6S7wbr",
    "outputId": "e8a08996-c488-4b33-fe6a-63c338b65ead"
   },
   "outputs": [
    {
     "name": "stdout",
     "output_type": "stream",
     "text": [
      "digite un numero33\n",
      "digitaste... 33\n",
      " lo sinto... e, nuemro que ingresaste es menor que el nuemro secreto \n",
      "fin del juego\n"
     ]
    }
   ],
   "source": [
    "nuemro_secreto =77\n",
    "entrada = input(\"digite un numero\")\n",
    "entrada  = int(entrada)\n",
    "print(\"digitaste...\", entrada)\n",
    "acertaste= entrada == nuemro_secreto\n",
    "mayor = entrada > nuemro_secreto\n",
    "menor = entrada< nuemro_secreto\n",
    "\n",
    "\n",
    "if(acertaste):\n",
    "  print(\"felicidades !! .. adivinaste el numero \")\n",
    "elif(mayor ):\n",
    "  print(\"lo siento.. el nuewmor que ingresaste es mayor\")\n",
    "else:\n",
    "  print(\" lo sinto... e, nuemro que ingresaste es menor que el nuemro secreto \")\n",
    "print(\"fin del juego\")"
   ]
  },
  {
   "cell_type": "markdown",
   "metadata": {
    "id": "3oFp8pVg99r9"
   },
   "source": [
    "## implementar iterACCIONES\n"
   ]
  },
  {
   "cell_type": "code",
   "execution_count": null,
   "metadata": {
    "colab": {
     "base_uri": "https://localhost:8080/"
    },
    "id": "J52wijOF9pom",
    "outputId": "f5bb07db-66a5-4405-9729-d6b591d66b5d"
   },
   "outputs": [
    {
     "name": "stdout",
     "output_type": "stream",
     "text": [
      "====================================\n",
      "bienvenido al juego de adivinanza \n",
      "====================================\n",
      "intentos: 1 de 6\n",
      "digite un nuemor77\n",
      "digitaste.. 77\n",
      "felicidades !! .. adivinaste el numero \n",
      "fin del juego\n"
     ]
    }
   ],
   "source": [
    "print(\"====================================\")\n",
    "print(\"bienvenido al juego de adivinanza \")\n",
    "print(\"====================================\")\n",
    "\n",
    "numero_secreto =77\n",
    "total_intentos =6\n",
    "iteraciones = 1\n",
    "while(iteraciones <= total_intentos):\n",
    "  print(\"intentos:\", iteraciones, \"de\", total_intentos)\n",
    "  entrada = input(\"digite un nuemor\")\n",
    "  entrada  = int(entrada)\n",
    "  print(\"digitaste..\", entrada )\n",
    "  acertaste= entrada == nuemro_secreto\n",
    "  mayor = entrada > nuemro_secreto\n",
    "  menor = entrada< nuemro_secreto\n",
    "\n",
    "  if(acertaste):\n",
    "    print(\"felicidades !! .. adivinaste el numero \")\n",
    "  #  iteraciones=6\n",
    "    break\n",
    "  elif(mayor ):\n",
    "    print(\"lo siento.. el nuewmor que ingresaste es mayor\")\n",
    "  else:\n",
    "    print(\" lo sinto... , nuemro que ingresaste es menor que el nuemro secreto \")\n",
    "\n",
    "  iteraciones = iteraciones+1\n",
    "print(\"fin del juego\")"
   ]
  },
  {
   "cell_type": "code",
   "execution_count": null,
   "metadata": {
    "colab": {
     "base_uri": "https://localhost:8080/"
    },
    "id": "2xrnhSSHAAEz",
    "outputId": "5e3d13ea-a8a1-4469-a1c4-fa2d337ce786"
   },
   "outputs": [
    {
     "name": "stdout",
     "output_type": "stream",
     "text": [
      "====================================\n",
      "bienvenido al juego de adivinanza \n",
      "====================================\n",
      "intentos:1 de 6\n",
      "digite un nuemor77\n",
      "digitaste.. 77\n",
      "felicidades !! .. adivinaste el numero \n",
      "fin del juego\n"
     ]
    }
   ],
   "source": [
    "print(\"====================================\")\n",
    "print(\"bienvenido al juego de adivinanza \")\n",
    "print(\"====================================\")\n",
    "\n",
    "nuemro_secreto = 77\n",
    "total_intetos=3\n",
    "iteracion =1\n",
    "\n",
    "\n",
    "while(iteraciones <= total_intentos):\n",
    "  print(\"intentos:{} de {}\".format(iteraciones,total_intentos))\n",
    "  entrada = input(\"digite un nuemor\")\n",
    "  entrada  = int(entrada)\n",
    "  print(\"digitaste..\", entrada )\n",
    "\n",
    "\n",
    "\n",
    "\n",
    "  acertaste= entrada == nuemro_secreto #iguales\n",
    "  mayor = entrada > nuemro_secreto # mayor\n",
    "  menor = entrada< nuemro_secreto # menor\n",
    "\n",
    "  if(acertaste):\n",
    "    print(\"felicidades !! .. adivinaste el numero \")\n",
    "  #  iteraciones=6\n",
    "    break\n",
    "  elif(mayor ):\n",
    "    print(\"lo siento.. el nuewmor que ingresaste es mayor\")\n",
    "  else:\n",
    "    print(\" lo sinto... , nuemro que ingresaste es menor que el nuemro secreto \")\n",
    "\n",
    "  iteraciones = iteraciones+1\n",
    "print(\"fin del juego\")"
   ]
  },
  {
   "cell_type": "markdown",
   "metadata": {
    "id": "ynamgoQ7DZwg"
   },
   "source": [
    "## Utilizando otro sentencia pra LOOPS.... for i range(n1,n2,n3) y  controlar que el nuemro ingresado sea positivi y si adivino del totoal de intentos, para el juego. **texto en negrita**"
   ]
  },
  {
   "cell_type": "code",
   "execution_count": null,
   "metadata": {
    "colab": {
     "base_uri": "https://localhost:8080/"
    },
    "id": "pljhnJlHEw7_",
    "outputId": "4a593980-2765-4180-c0e2-9f4360f13200"
   },
   "outputs": [
    {
     "name": "stdout",
     "output_type": "stream",
     "text": [
      "20\n",
      "18\n",
      "16\n",
      "14\n",
      "12\n",
      "10\n",
      "8\n",
      "6\n"
     ]
    }
   ],
   "source": [
    "for i in range(20,4,-2):\n",
    "  print(i)"
   ]
  },
  {
   "cell_type": "code",
   "execution_count": null,
   "metadata": {
    "colab": {
     "base_uri": "https://localhost:8080/"
    },
    "id": "27jJ27WVDJMc",
    "outputId": "1027ad49-59cc-49e9-eab6-f5011a690788"
   },
   "outputs": [
    {
     "name": "stdout",
     "output_type": "stream",
     "text": [
      "====================================\n",
      "bienvenido al juego de adivinanza \n",
      "====================================\n",
      "intentos:6 de 6\n",
      "digite un nuemor77\n",
      "digitaste.. 77\n",
      "felicidades !! .. adivinaste el numero \n",
      "fin del juego\n"
     ]
    }
   ],
   "source": [
    "print(\"====================================\")\n",
    "print(\"bienvenido al juego de adivinanza \")\n",
    "print(\"====================================\")\n",
    "\n",
    "nuemro_secreto = 77\n",
    "total_intetos=3\n",
    "\n",
    "for iteracion in range(1, total_intentos, +1):\n",
    "   print(\"intentos:{} de {}\".format(iteraciones,total_intentos))\n",
    "   entrada = input(\"digite un nuemor\")\n",
    "   entrada  = int(entrada)\n",
    "   print(\"digitaste..\", entrada )\n",
    "   if(entrada<1 or entrada > 100):\n",
    "      print(\"ingresar un nuemro entre 1  y 100 \")\n",
    "      continue\n",
    "\n",
    "   acertaste= entrada == nuemro_secreto #iguales\n",
    "   mayor = entrada > nuemro_secreto # mayor\n",
    "   menor = entrada< nuemro_secreto # menor\n",
    "\n",
    "\n",
    "   if(acertaste):\n",
    "      print(\"felicidades !! .. adivinaste el numero \")\n",
    "    #  iteraciones=6\n",
    "      break\n",
    "   elif(mayor ):\n",
    "      print(\"lo siento.. el nuewmor que ingresaste es mayor\")\n",
    "   else:\n",
    "      print(\" lo sinto... , nuemro que ingresaste es menor que el nuemro secreto \")\n",
    "\n",
    "   iteraciones = iteraciones+1\n",
    "print(\"fin del juego\")"
   ]
  },
  {
   "cell_type": "markdown",
   "metadata": {
    "id": "kgt1yZevH13s"
   },
   "source": [
    "## generar un numero aleatoirio ... Random\n"
   ]
  },
  {
   "cell_type": "code",
   "execution_count": null,
   "metadata": {
    "colab": {
     "base_uri": "https://localhost:8080/"
    },
    "id": "KSmv3KOaE4A8",
    "outputId": "d060d8a7-14f9-4db1-be50-4df2eab70887"
   },
   "outputs": [
    {
     "data": {
      "text/plain": [
       "0.2880414169120016"
      ]
     },
     "execution_count": 89,
     "metadata": {},
     "output_type": "execute_result"
    }
   ],
   "source": [
    "## generar numero random\n",
    "\n",
    "import random\n",
    "random.random()\n"
   ]
  },
  {
   "cell_type": "code",
   "execution_count": null,
   "metadata": {
    "colab": {
     "base_uri": "https://localhost:8080/"
    },
    "id": "e2vpLQIWIFiD",
    "outputId": "49469c9c-42f7-4882-bde2-c787236ff7ef"
   },
   "outputs": [
    {
     "data": {
      "text/plain": [
       "58.597434892562546"
      ]
     },
     "execution_count": 91,
     "metadata": {},
     "output_type": "execute_result"
    }
   ],
   "source": [
    "## genra un nuemro random entre y 1 y 100\n",
    "\n",
    "numero_random = random.random()*100\n",
    "numero_random"
   ]
  },
  {
   "cell_type": "code",
   "execution_count": null,
   "metadata": {
    "colab": {
     "base_uri": "https://localhost:8080/"
    },
    "id": "qxuxuQAVI9M7",
    "outputId": "a69add19-c77f-437a-ca8e-8fac6abc3d87"
   },
   "outputs": [
    {
     "data": {
      "text/plain": [
       "54"
      ]
     },
     "execution_count": 92,
     "metadata": {},
     "output_type": "execute_result"
    }
   ],
   "source": [
    "## genra un nuemro random entre y 1 y 100 redondeado\n",
    "\n",
    "numero_random = round(random.random()*100)\n",
    "numero_random"
   ]
  },
  {
   "cell_type": "code",
   "execution_count": null,
   "metadata": {
    "colab": {
     "base_uri": "https://localhost:8080/"
    },
    "id": "xbt3_bWaJOYK",
    "outputId": "973b07a9-0787-46d4-97ec-500a909db510"
   },
   "outputs": [
    {
     "data": {
      "text/plain": [
       "45"
      ]
     },
     "execution_count": 94,
     "metadata": {},
     "output_type": "execute_result"
    }
   ],
   "source": [
    "numero_random = random.randrange(1,101)\n",
    "numero_random"
   ]
  },
  {
   "cell_type": "code",
   "execution_count": null,
   "metadata": {
    "id": "tsWkjQ0hJ1JL"
   },
   "outputs": [],
   "source": []
  },
  {
   "cell_type": "markdown",
   "metadata": {
    "id": "JIRlm2bDKGYN"
   },
   "source": [
    "## MEJORANDO EL CODIGO, GENERANDO EL NUYEMRO SECRETI DE MANERA ALEATORIA, TENEMOS"
   ]
  },
  {
   "cell_type": "code",
   "execution_count": null,
   "metadata": {
    "colab": {
     "base_uri": "https://localhost:8080/"
    },
    "id": "E6q9QLA-KOkS",
    "outputId": "f83e0779-a7c3-46e1-daee-1bd9b8e2a84c"
   },
   "outputs": [
    {
     "name": "stdout",
     "output_type": "stream",
     "text": [
      "====================================\n",
      "bienvenido al juego de adivinanza \n",
      "====================================\n",
      "intentos:1 de 6\n",
      "digite un numero 1 y 100 : 77\n",
      "digitaste.. 77\n",
      "felicidades !! .. adivinaste el numero \n",
      "fin del juego\n"
     ]
    }
   ],
   "source": [
    "import random\n",
    "print(\"====================================\")\n",
    "print(\"bienvenido al juego de adivinanza \")\n",
    "print(\"====================================\")\n",
    "\n",
    "total_intestos = random.randrange(1,101)\n",
    "total_intestos=15\n",
    "\n",
    "for iteracion in range(1, total_intentos, +1):\n",
    "   print(\"intentos:{} de {}\".format(iteracion,total_intentos))\n",
    "   entrada = input(\"digite un numero 1 y 100 : \")\n",
    "   entrada  = int(entrada)\n",
    "   print(\"digitaste..\", entrada )\n",
    "   if(entrada<1 or entrada > 100):\n",
    "      print(\"ingresar un nuemro entre 1  y 100 \")\n",
    "      continue\n",
    "\n",
    "   acertaste= entrada == nuemro_secreto #iguales\n",
    "   mayor = entrada > nuemro_secreto # mayor\n",
    "   menor = entrada< nuemro_secreto # menor\n",
    "\n",
    "\n",
    "   if(acertaste):\n",
    "      print(\"felicidades !! .. adivinaste el numero \")\n",
    "    #  iteraciones=6\n",
    "      break\n",
    "   elif(mayor ):\n",
    "      print(\"lo siento.. el nuewmor que ingresaste es mayor\")\n",
    "   else:\n",
    "      print(\" lo sinto... , nuemro que ingresaste es menor que el nuemro secreto \")\n",
    "\n",
    "\n",
    "print(\"fin del juego\")\n"
   ]
  },
  {
   "cell_type": "markdown",
   "metadata": {
    "id": "D2rcjtFDMpAB"
   },
   "source": [
    "## definiendo el nivel de dificualtad"
   ]
  },
  {
   "cell_type": "code",
   "execution_count": null,
   "metadata": {
    "colab": {
     "base_uri": "https://localhost:8080/",
     "height": 498
    },
    "id": "JOOFx6NWMoyi",
    "outputId": "e1cec201-332f-41a8-a324-456409b247fd"
   },
   "outputs": [
    {
     "name": "stdout",
     "output_type": "stream",
     "text": [
      "====================================\n",
      "bienvenido al juego de adivinanza \n",
      "====================================\n",
      "seleccione el nivel de dificultad\n",
      "(1) facil   (2) medio   (3) dificil\n"
     ]
    },
    {
     "ename": "KeyboardInterrupt",
     "evalue": "ignored",
     "output_type": "error",
     "traceback": [
      "\u001b[0;31m---------------------------------------------------------------------------\u001b[0m",
      "\u001b[0;31mKeyboardInterrupt\u001b[0m                         Traceback (most recent call last)",
      "\u001b[0;32m<ipython-input-112-3b71f59987a5>\u001b[0m in \u001b[0;36m<cell line: 7>\u001b[0;34m()\u001b[0m\n\u001b[1;32m      5\u001b[0m \u001b[0mprint\u001b[0m\u001b[0;34m(\u001b[0m\u001b[0;34m\"seleccione el nivel de dificultad\"\u001b[0m\u001b[0;34m)\u001b[0m\u001b[0;34m\u001b[0m\u001b[0;34m\u001b[0m\u001b[0m\n\u001b[1;32m      6\u001b[0m \u001b[0mprint\u001b[0m\u001b[0;34m(\u001b[0m\u001b[0;34m\"(1) facil   (2) medio   (3) dificil\"\u001b[0m\u001b[0;34m)\u001b[0m\u001b[0;34m\u001b[0m\u001b[0;34m\u001b[0m\u001b[0m\n\u001b[0;32m----> 7\u001b[0;31m \u001b[0mnivel\u001b[0m \u001b[0;34m=\u001b[0m \u001b[0mint\u001b[0m\u001b[0;34m(\u001b[0m\u001b[0minput\u001b[0m\u001b[0;34m(\u001b[0m\u001b[0;34m\"ingrese un nivel de dificultad\"\u001b[0m\u001b[0;34m)\u001b[0m\u001b[0;34m)\u001b[0m\u001b[0;34m\u001b[0m\u001b[0;34m\u001b[0m\u001b[0m\n\u001b[0m\u001b[1;32m      8\u001b[0m \u001b[0;32mif\u001b[0m\u001b[0;34m(\u001b[0m\u001b[0mnivel\u001b[0m \u001b[0;34m==\u001b[0m\u001b[0;36m1\u001b[0m\u001b[0;34m)\u001b[0m\u001b[0;34m:\u001b[0m\u001b[0;34m\u001b[0m\u001b[0;34m\u001b[0m\u001b[0m\n\u001b[1;32m      9\u001b[0m   \u001b[0mtotal_intentos\u001b[0m \u001b[0;34m=\u001b[0m \u001b[0;36m20\u001b[0m\u001b[0;34m\u001b[0m\u001b[0;34m\u001b[0m\u001b[0m\n",
      "\u001b[0;32m/usr/local/lib/python3.10/dist-packages/ipykernel/kernelbase.py\u001b[0m in \u001b[0;36mraw_input\u001b[0;34m(self, prompt)\u001b[0m\n\u001b[1;32m    849\u001b[0m                 \u001b[0;34m\"raw_input was called, but this frontend does not support input requests.\"\u001b[0m\u001b[0;34m\u001b[0m\u001b[0;34m\u001b[0m\u001b[0m\n\u001b[1;32m    850\u001b[0m             )\n\u001b[0;32m--> 851\u001b[0;31m         return self._input_request(str(prompt),\n\u001b[0m\u001b[1;32m    852\u001b[0m             \u001b[0mself\u001b[0m\u001b[0;34m.\u001b[0m\u001b[0m_parent_ident\u001b[0m\u001b[0;34m,\u001b[0m\u001b[0;34m\u001b[0m\u001b[0;34m\u001b[0m\u001b[0m\n\u001b[1;32m    853\u001b[0m             \u001b[0mself\u001b[0m\u001b[0;34m.\u001b[0m\u001b[0m_parent_header\u001b[0m\u001b[0;34m,\u001b[0m\u001b[0;34m\u001b[0m\u001b[0;34m\u001b[0m\u001b[0m\n",
      "\u001b[0;32m/usr/local/lib/python3.10/dist-packages/ipykernel/kernelbase.py\u001b[0m in \u001b[0;36m_input_request\u001b[0;34m(self, prompt, ident, parent, password)\u001b[0m\n\u001b[1;32m    893\u001b[0m             \u001b[0;32mexcept\u001b[0m \u001b[0mKeyboardInterrupt\u001b[0m\u001b[0;34m:\u001b[0m\u001b[0;34m\u001b[0m\u001b[0;34m\u001b[0m\u001b[0m\n\u001b[1;32m    894\u001b[0m                 \u001b[0;31m# re-raise KeyboardInterrupt, to truncate traceback\u001b[0m\u001b[0;34m\u001b[0m\u001b[0;34m\u001b[0m\u001b[0m\n\u001b[0;32m--> 895\u001b[0;31m                 \u001b[0;32mraise\u001b[0m \u001b[0mKeyboardInterrupt\u001b[0m\u001b[0;34m(\u001b[0m\u001b[0;34m\"Interrupted by user\"\u001b[0m\u001b[0;34m)\u001b[0m \u001b[0;32mfrom\u001b[0m \u001b[0;32mNone\u001b[0m\u001b[0;34m\u001b[0m\u001b[0;34m\u001b[0m\u001b[0m\n\u001b[0m\u001b[1;32m    896\u001b[0m             \u001b[0;32mexcept\u001b[0m \u001b[0mException\u001b[0m \u001b[0;32mas\u001b[0m \u001b[0me\u001b[0m\u001b[0;34m:\u001b[0m\u001b[0;34m\u001b[0m\u001b[0;34m\u001b[0m\u001b[0m\n\u001b[1;32m    897\u001b[0m                 \u001b[0mself\u001b[0m\u001b[0;34m.\u001b[0m\u001b[0mlog\u001b[0m\u001b[0;34m.\u001b[0m\u001b[0mwarning\u001b[0m\u001b[0;34m(\u001b[0m\u001b[0;34m\"Invalid Message:\"\u001b[0m\u001b[0;34m,\u001b[0m \u001b[0mexc_info\u001b[0m\u001b[0;34m=\u001b[0m\u001b[0;32mTrue\u001b[0m\u001b[0;34m)\u001b[0m\u001b[0;34m\u001b[0m\u001b[0;34m\u001b[0m\u001b[0m\n",
      "\u001b[0;31mKeyboardInterrupt\u001b[0m: Interrupted by user"
     ]
    }
   ],
   "source": [
    "import random\n",
    "print(\"====================================\")\n",
    "print(\"bienvenido al juego de adivinanza \")\n",
    "print(\"====================================\")\n",
    "print(\"seleccione el nivel de dificultad\")\n",
    "print(\"(1) facil   (2) medio   (3) dificil\")\n",
    "nivel = int(input(\"ingrese un nivel de dificultad\"))\n",
    "if(nivel ==1):\n",
    "  total_intentos = 20\n",
    "elif(nivel==2):\n",
    "  total_intentos = 10\n",
    "else:\n",
    "  total_intentos = 5\n",
    "\n",
    "for iteracion in range(1, total_intentos, +1):\n",
    "   print(\"intentos:{} de {}\".format(iteracion,total_intentos))\n",
    "   entrada = input(\"digite un numero 1 y 100 : \")\n",
    "   entrada  = int(entrada)\n",
    "   print(\"digitaste..\", entrada )\n",
    "   if(entrada<1 or entrada > 100):\n",
    "      print(\"ingresar un nuemro entre 1  y 100 \")\n",
    "      continue\n",
    "\n",
    "   acertaste= entrada == nuemro_secreto #iguales\n",
    "   mayor = entrada > nuemro_secreto # mayor\n",
    "   menor = entrada< nuemro_secreto # menor\n",
    "\n",
    "\n",
    "   if(acertaste):\n",
    "      print(\"felicidades !! .. adivinaste el numero \")\n",
    "    #  iteraciones=6\n",
    "      break\n",
    "   elif(mayor ):\n",
    "      print(\"lo siento.. el nuewmor que ingresaste es mayor\")\n",
    "   else:\n",
    "      print(\" lo sinto... , nuemro que ingresaste es menor que el nuemro secreto \")\n",
    "\n",
    "\n",
    "print(\"fin del juego\")\n"
   ]
  },
  {
   "cell_type": "markdown",
   "metadata": {
    "id": "z7ItePVeO3do"
   },
   "source": [
    "## definiendo el clulo de puntaje del juegfo"
   ]
  },
  {
   "cell_type": "code",
   "execution_count": null,
   "metadata": {
    "colab": {
     "base_uri": "https://localhost:8080/"
    },
    "id": "snrKQYqbN4wC",
    "outputId": "48c63153-2474-4fe0-e2a4-dccfad0bd413"
   },
   "outputs": [
    {
     "data": {
      "text/plain": [
       "20"
      ]
     },
     "execution_count": 110,
     "metadata": {},
     "output_type": "execute_result"
    }
   ],
   "source": [
    "puntos_perdidos = abs(50-70)\n",
    "puntos_perdidos"
   ]
  },
  {
   "cell_type": "code",
   "execution_count": null,
   "metadata": {
    "colab": {
     "background_save": true,
     "base_uri": "https://localhost:8080/"
    },
    "id": "v7Z9lyDJPF4Q",
    "outputId": "345c7729-6cbc-4238-b22f-dc50c7ee56fd"
   },
   "outputs": [
    {
     "name": "stdout",
     "output_type": "stream",
     "text": [
      "====================================\n",
      "bienvenido al juego de adivinanza \n",
      "====================================\n",
      "seleccione el nivel de dificultad\n",
      "(1) facil   (2) medio   (3) dificil\n"
     ]
    }
   ],
   "source": [
    "import random\n",
    "print(\"====================================\")\n",
    "print(\"bienvenido al juego de adivinanza \")\n",
    "print(\"====================================\")\n",
    "numero_secreto = random.randrange(1,101)\n",
    "puntaje =1000 # puntaje\n",
    "print(\"seleccione el nivel de dificultad\")\n",
    "print(\"(1) facil   (2) medio   (3) dificil\")\n",
    "nivel = int(input(\"ingrese un nivel de dificultad\"))\n",
    "if(nivel ==1):\n",
    "  total_intentos = 20\n",
    "elif(nivel==2):\n",
    "  total_intentos = 10\n",
    "else:\n",
    "  total_intentos = 5\n",
    "\n",
    "for iteracion in range(1, total_intentos, +1):\n",
    "   print(\"intentos:{} de {}\".format(iteracion,total_intentos))\n",
    "   entrada = input(\"digite un numero 1 y 100 : \")\n",
    "   entrada  = int(entrada)\n",
    "   print(\"digitaste..\", entrada )\n",
    "   if(entrada<1 or entrada > 100):\n",
    "      print(\"ingresar un nuemro entre 1  y 100 \")\n",
    "      continue\n",
    "\n",
    "   acertaste= entrada == nuemro_secreto #iguales\n",
    "   mayor = entrada > nuemro_secreto # mayor\n",
    "   menor = entrada< nuemro_secreto # menor\n",
    "\n",
    "\n",
    "   if(acertaste):\n",
    "      print(\"felicidades !! .. adivinaste el numero y ganaste {} puntos \". format(puntaje))\n",
    "    #  iteraciones=6\n",
    "      break\n",
    "\n",
    "   elif(mayor ):\n",
    "      print(\"lo siento.. el nuewmor que ingresaste es mayor\")\n",
    "   else:\n",
    "      print(\" lo sinto... , nuemro que ingresaste es menor que el nuemro secreto \")\n",
    "   puntos_perdidos =abs(nuemro_secreto- entrada)\n",
    "\n",
    "print(\"fin del juego\")\n"
   ]
  },
  {
   "cell_type": "markdown",
   "metadata": {},
   "source": [
    "## SEGUNDO PROYECTO : JUEGO DE LA HORCA "
   ]
  },
  {
   "cell_type": "markdown",
   "metadata": {
    "id": "8TCOlR040Cf9"
   },
   "source": [
    "## crear set de juegos \n",
    "\n"
   ]
  },
  {
   "cell_type": "code",
   "execution_count": null,
   "metadata": {
    "id": "Eyclp3ho0CaV"
   },
   "outputs": [],
   "source": [
    "import ahorcado \n",
    "import adivinanza\n",
    "\n",
    "print(\"====================================\")\n",
    "print(\"bienvenido al juego de adivinanza \")\n",
    "print(\"====================================\")\n",
    "\n",
    "print (\"(1) horca (2) adivinanza\")\n",
    "\n",
    "juego = int(input(\"cúal juego?\"))\n",
    "\n",
    "if (juego ==1):\n",
    "    \n",
    "    print(\"juegando horca\")\n",
    "    \n",
    "else(juego ==2):\n",
    "    \n",
    "    print(\"jugando adivinanza\")\n"
   ]
  },
  {
   "cell_type": "code",
   "execution_count": null,
   "metadata": {},
   "outputs": [],
   "source": [
    "    import ahorcado \n",
    "    import adivinanza\n",
    "\n",
    "    print(\"====================================\")\n",
    "    print(\"bienvenido al juego de adivinanza \")\n",
    "    print(\"====================================\")\n",
    "\n",
    "    print (\"(1) horca (2) adivinanza\")\n",
    "\n",
    "    juego = int(input(\"cúal juego?\"))\n",
    "\n",
    "    if (juego ==1):\n",
    "        \n",
    "        print(\"juegando horca\")\n",
    "        ahorcado.juegar_ahorcado()\n",
    "    else(juego ==2):\n",
    "        print(\"jugando adivinanza\")\n",
    "        adivinanza.jugar_adivinanza()"
   ]
  },
  {
   "cell_type": "code",
   "execution_count": 2,
   "metadata": {},
   "outputs": [
    {
     "ename": "SyntaxError",
     "evalue": "invalid syntax (1644492289.py, line 2)",
     "output_type": "error",
     "traceback": [
      "\u001b[1;36m  File \u001b[1;32m\"C:\\Users\\Control\\AppData\\Local\\Temp\\ipykernel_13628\\1644492289.py\"\u001b[1;36m, line \u001b[1;32m2\u001b[0m\n\u001b[1;33m    def jugar_adivinaza\u001b[0m\n\u001b[1;37m                       ^\u001b[0m\n\u001b[1;31mSyntaxError\u001b[0m\u001b[1;31m:\u001b[0m invalid syntax\n"
     ]
    }
   ],
   "source": [
    "import random\n",
    "def jugar_adivinaza\n",
    "\n",
    "    print(\"====================================\")\n",
    "    print(\"bienvenido al juego de adivinanza \")\n",
    "    print(\"====================================\")\n",
    "    numero_secreto = random.randrange(1,101)\n",
    "    puntaje =1000 # puntaje\n",
    "    print(\"seleccione el nivel de dificultad\")\n",
    "    print(\"(1) facil   (2) medio   (3) dificil\")\n",
    "    nivel = int(input(\"ingrese un nivel de dificultad\"))\n",
    "    if(nivel ==1):\n",
    "      total_intentos = 20\n",
    "    elif(nivel==2):\n",
    "      total_intentos = 10\n",
    "    else:\n",
    "      total_intentos = 5\n",
    "\n",
    "    for iteracion in range(1, total_intentos, +1):\n",
    "       print(\"intentos:{} de {}\".format(iteracion,total_intentos))\n",
    "       entrada = input(\"digite un numero 1 y 100 : \")\n",
    "       entrada  = int(entrada)\n",
    "       print(\"digitaste..\", entrada )\n",
    "       if(entrada<1 or entrada > 100):\n",
    "          print(\"ingresar un nuemro entre 1  y 100 \")\n",
    "          continue\n",
    "\n",
    "       acertaste= entrada == nuemro_secreto #iguales\n",
    "       mayor = entrada > nuemro_secreto # mayor\n",
    "       menor = entrada< nuemro_secreto # menor\n",
    "\n",
    "\n",
    "       if(acertaste):\n",
    "          print(\"felicidades !! .. adivinaste el numero y ganaste {} puntos \". format(puntaje))\n",
    "        #  iteraciones=6\n",
    "          break\n",
    "\n",
    "       elif(mayor ):\n",
    "          print(\"lo siento.. el nuewmor que ingresaste es mayor\")\n",
    "       else:\n",
    "          print(\" lo sinto... , nuemro que ingresaste es menor que el nuemro secreto \")\n",
    "       puntos_perdidos =abs(nuemro_secreto- entrada)\n",
    "\n",
    "    print(\"fin del juego\")\n"
   ]
  },
  {
   "cell_type": "code",
   "execution_count": 5,
   "metadata": {},
   "outputs": [
    {
     "ename": "ModuleNotFoundError",
     "evalue": "No module named 'ahorcado'",
     "output_type": "error",
     "traceback": [
      "\u001b[1;31m---------------------------------------------------------------------------\u001b[0m",
      "\u001b[1;31mModuleNotFoundError\u001b[0m                       Traceback (most recent call last)",
      "\u001b[1;32m~\\AppData\\Local\\Temp\\ipykernel_13628\\4227983205.py\u001b[0m in \u001b[0;36m<module>\u001b[1;34m\u001b[0m\n\u001b[1;32m----> 1\u001b[1;33m \u001b[1;32mimport\u001b[0m \u001b[0mahorcado\u001b[0m\u001b[1;33m\u001b[0m\u001b[1;33m\u001b[0m\u001b[0m\n\u001b[0m\u001b[0;32m      2\u001b[0m \u001b[1;32mimport\u001b[0m \u001b[0madivinanza\u001b[0m\u001b[1;33m\u001b[0m\u001b[1;33m\u001b[0m\u001b[0m\n\u001b[0;32m      3\u001b[0m \u001b[1;33m\u001b[0m\u001b[0m\n\u001b[0;32m      4\u001b[0m \u001b[0mprint\u001b[0m\u001b[1;33m(\u001b[0m\u001b[1;34m\"====================================\"\u001b[0m\u001b[1;33m)\u001b[0m\u001b[1;33m\u001b[0m\u001b[1;33m\u001b[0m\u001b[0m\n\u001b[0;32m      5\u001b[0m \u001b[0mprint\u001b[0m\u001b[1;33m(\u001b[0m\u001b[1;34m\"bienvenido al juego de adivinanza \"\u001b[0m\u001b[1;33m)\u001b[0m\u001b[1;33m\u001b[0m\u001b[1;33m\u001b[0m\u001b[0m\n",
      "\u001b[1;31mModuleNotFoundError\u001b[0m: No module named 'ahorcado'"
     ]
    }
   ],
   "source": [
    "    import ahorcado \n",
    "    import adivinanza\n",
    "\n",
    "    print(\"====================================\")\n",
    "    print(\"bienvenido al juego de adivinanza \")\n",
    "    print(\"====================================\")\n",
    "\n",
    "    print (\"(1) horca (2) adivinanza\")\n",
    "\n",
    "    juego = int(input(\"cúal juego?\"))\n",
    "\n",
    "    if (juego ==1):\n",
    "        \n",
    "        print(\"juegando horca\")\n",
    "        ahorcado.juegar_ahorcado()\n",
    "        \n",
    "    elif(juego ==2):\n",
    "        print(\"jugando adivinanza\")\n",
    "        adivinanza.jugar_adivinanza()"
   ]
  },
  {
   "cell_type": "code",
   "execution_count": null,
   "metadata": {},
   "outputs": [],
   "source": []
  }
 ],
 "metadata": {
  "colab": {
   "provenance": []
  },
  "kernelspec": {
   "display_name": "Python 3 (ipykernel)",
   "language": "python",
   "name": "python3"
  },
  "language_info": {
   "codemirror_mode": {
    "name": "ipython",
    "version": 3
   },
   "file_extension": ".py",
   "mimetype": "text/x-python",
   "name": "python",
   "nbconvert_exporter": "python",
   "pygments_lexer": "ipython3",
   "version": "3.9.13"
  }
 },
 "nbformat": 4,
 "nbformat_minor": 1
}
