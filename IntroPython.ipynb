{
 "cells": [
  {
   "cell_type": "markdown",
   "metadata": {
    "id": "g5ejPKqL0sDr"
   },
   "source": [
    "# **Primera Clase Programacion 3**"
   ]
  },
  {
   "cell_type": "markdown",
   "metadata": {
    "id": "Cwk7Iv721hP7"
   },
   "source": [
    "## Logica Programacion Phyton"
   ]
  },
  {
   "cell_type": "markdown",
   "metadata": {
    "id": "J06R7nSV4GK8"
   },
   "source": [
    "## Primera Funcion"
   ]
  },
  {
   "cell_type": "code",
   "execution_count": null,
   "metadata": {
    "id": "wJyWbxLv4LE0"
   },
   "outputs": [],
   "source": [
    "def SayHi():\n",
    "  name = input(\"Ingresa tu nombre: \")\n",
    "  print(f\"Hola {name.upper()}\")"
   ]
  },
  {
   "cell_type": "code",
   "execution_count": null,
   "metadata": {
    "colab": {
     "base_uri": "https://localhost:8080/"
    },
    "id": "7ikeBxso4gVt",
    "outputId": "fb9e303e-2dca-4716-985a-f40242de2bd8"
   },
   "outputs": [
    {
     "name": "stdout",
     "output_type": "stream",
     "text": [
      "Ingresa tu nombre: pedro\n",
      "Hola PEDRO\n"
     ]
    }
   ],
   "source": [
    "SayHi()"
   ]
  },
  {
   "cell_type": "code",
   "execution_count": null,
   "metadata": {
    "colab": {
     "base_uri": "https://localhost:8080/"
    },
    "id": "4wfDn292z9Ag",
    "outputId": "aa1c3af2-185d-4577-d8cf-b75f4c643eab"
   },
   "outputs": [
    {
     "name": "stdout",
     "output_type": "stream",
     "text": [
      "primera clase\n"
     ]
    }
   ],
   "source": [
    "print (\"primera clase\")"
   ]
  },
  {
   "cell_type": "code",
   "execution_count": null,
   "metadata": {
    "colab": {
     "base_uri": "https://localhost:8080/"
    },
    "id": "YPC-0b4p1sFk",
    "outputId": "e124a5aa-4941-473d-b605-c6c2cbec63fc"
   },
   "outputs": [
    {
     "name": "stdout",
     "output_type": "stream",
     "text": [
      "Alex\n"
     ]
    }
   ],
   "source": [
    "name=\"Alex\"\n",
    "print (name)"
   ]
  },
  {
   "cell_type": "code",
   "execution_count": null,
   "metadata": {
    "colab": {
     "base_uri": "https://localhost:8080/"
    },
    "id": "Hhdp3xtm2yM9",
    "outputId": "43e34908-f677-4ad5-ed6b-15c48953cc08"
   },
   "outputs": [
    {
     "data": {
      "text/plain": [
       "19"
      ]
     },
     "execution_count": 6,
     "metadata": {},
     "output_type": "execute_result"
    }
   ],
   "source": [
    "age=19\n",
    "age"
   ]
  },
  {
   "cell_type": "code",
   "execution_count": null,
   "metadata": {
    "colab": {
     "base_uri": "https://localhost:8080/"
    },
    "id": "B0zElNna29NG",
    "outputId": "609d075e-ecde-4206-daa5-2e1fea8380dc"
   },
   "outputs": [
    {
     "name": "stdout",
     "output_type": "stream",
     "text": [
      "El nombre es Alex y tiene 19 años\n"
     ]
    }
   ],
   "source": [
    "print(f\"El nombre es {name} y tiene {age} años\")"
   ]
  },
  {
   "cell_type": "code",
   "execution_count": null,
   "metadata": {
    "id": "IUzOOfHo3yyl"
   },
   "outputs": [],
   "source": [
    "age=20"
   ]
  },
  {
   "cell_type": "code",
   "execution_count": null,
   "metadata": {
    "colab": {
     "base_uri": "https://localhost:8080/"
    },
    "id": "1oESwLaJ328G",
    "outputId": "6c351607-b524-450c-c896-a562def56afb"
   },
   "outputs": [
    {
     "name": "stdout",
     "output_type": "stream",
     "text": [
      "El nombre es Alex y tiene 20 años\n"
     ]
    }
   ],
   "source": [
    "print(f\"El nombre es {name} y tiene {age} años\")"
   ]
  },
  {
   "cell_type": "markdown",
   "metadata": {
    "id": "MBRXFh4356As"
   },
   "source": [
    "## Parametros"
   ]
  },
  {
   "cell_type": "code",
   "execution_count": null,
   "metadata": {
    "id": "obk7OVRO6EnN"
   },
   "outputs": [],
   "source": [
    "def SayHiWithParameters(aname):\n",
    "  print(f\"Hi {aname}\")"
   ]
  },
  {
   "cell_type": "code",
   "execution_count": null,
   "metadata": {
    "id": "AYT5SCR_58qL"
   },
   "outputs": [],
   "source": [
    "name=\"Juan\""
   ]
  },
  {
   "cell_type": "code",
   "execution_count": null,
   "metadata": {
    "colab": {
     "base_uri": "https://localhost:8080/"
    },
    "id": "KKHRVLA76PhD",
    "outputId": "7fc765d8-44d5-4877-a468-6b3142160caf"
   },
   "outputs": [
    {
     "name": "stdout",
     "output_type": "stream",
     "text": [
      "Hi Juan\n"
     ]
    }
   ],
   "source": [
    "SayHiWithParameters(name)"
   ]
  },
  {
   "cell_type": "markdown",
   "metadata": {
    "id": "7Jufgis96vaq"
   },
   "source": [
    "## Condicionales"
   ]
  },
  {
   "cell_type": "code",
   "execution_count": null,
   "metadata": {
    "id": "pnVIpHf-7a6k"
   },
   "outputs": [],
   "source": [
    "age=20"
   ]
  },
  {
   "cell_type": "code",
   "execution_count": null,
   "metadata": {
    "colab": {
     "base_uri": "https://localhost:8080/"
    },
    "id": "TxB13G0-6y-0",
    "outputId": "353d15d3-8e0f-4061-90a2-810c6165ce37"
   },
   "outputs": [
    {
     "name": "stdout",
     "output_type": "stream",
     "text": [
      "La persona de 50 años puede conducir\n"
     ]
    }
   ],
   "source": [
    "def VericateIfCanDrive(an_age):\n",
    "  if an_age>=18:\n",
    "    print(f\"La persona de {an_age} años puede conducir\")\n",
    "  else:\n",
    "    print(f\"La persona de {an_age} años no puede conducir\")\n",
    "VericateIfCanDrive(age)"
   ]
  },
  {
   "cell_type": "code",
   "execution_count": null,
   "metadata": {
    "colab": {
     "base_uri": "https://localhost:8080/"
    },
    "id": "b3oeBIlT7Gxf",
    "outputId": "42387fba-96de-4189-aaff-e97a5c785301"
   },
   "outputs": [
    {
     "name": "stdout",
     "output_type": "stream",
     "text": [
      "Ingresa tu edad: l\n",
      "Ingresa tu edad: 5\n",
      "No puede conducir\n"
     ]
    }
   ],
   "source": [
    "def VericateIfCanDriveWithoutParameters():\n",
    "  is_int=True\n",
    "  while is_int:\n",
    "    an_age=input(\"Ingresa tu edad: \")\n",
    "    if an_age.isdigit():\n",
    "      is_int=False\n",
    "  an_age=int(an_age)\n",
    "\n",
    "  if an_age>18:\n",
    "    print(\"Puede conducir\")\n",
    "  else:\n",
    "    print(\"No puede conducir\")\n",
    "VericateIfCanDriveWithoutParameters()"
   ]
  },
  {
   "cell_type": "code",
   "execution_count": null,
   "metadata": {
    "colab": {
     "base_uri": "https://localhost:8080/"
    },
    "id": "eCfiFPi5_P2n",
    "outputId": "30ebaf20-aa35-495a-dcc6-ad23d8c48592"
   },
   "outputs": [
    {
     "data": {
      "text/plain": [
       "int"
      ]
     },
     "execution_count": 43,
     "metadata": {},
     "output_type": "execute_result"
    }
   ],
   "source": [
    "type(age)"
   ]
  },
  {
   "cell_type": "markdown",
   "metadata": {
    "id": "d6a0_6V8CfhC"
   },
   "source": [
    "##Listas"
   ]
  },
  {
   "cell_type": "code",
   "execution_count": null,
   "metadata": {
    "colab": {
     "base_uri": "https://localhost:8080/"
    },
    "id": "Jr--oPJTAPM0",
    "outputId": "0694333e-b3ac-4da9-eb2b-dd3f79fd2075",
    "scrolled": true
   },
   "outputs": [
    {
     "data": {
      "text/plain": [
       "list"
      ]
     },
     "execution_count": 48,
     "metadata": {},
     "output_type": "execute_result"
    }
   ],
   "source": [
    "ages = [12,14,15,17]\n",
    "type(ages)"
   ]
  },
  {
   "cell_type": "code",
   "execution_count": null,
   "metadata": {
    "colab": {
     "base_uri": "https://localhost:8080/"
    },
    "id": "lJGtVh1pA4EM",
    "outputId": "d7e1dc7f-e1c0-48c5-b9d3-47ba2da3fe23"
   },
   "outputs": [
    {
     "data": {
      "text/plain": [
       "3"
      ]
     },
     "execution_count": 53,
     "metadata": {},
     "output_type": "execute_result"
    }
   ],
   "source": [
    "ages = [1,2,3,4]\n",
    "#       0 1 2 3\n",
    "#       0 -3 -2 1\n",
    "ages[2]"
   ]
  },
  {
   "cell_type": "code",
   "execution_count": null,
   "metadata": {
    "colab": {
     "base_uri": "https://localhost:8080/"
    },
    "id": "uBUnY6PXByto",
    "outputId": "32aaa589-bf31-42c6-cb36-0bda67493fdb"
   },
   "outputs": [
    {
     "data": {
      "text/plain": [
       "[1, 2, 3]"
      ]
     },
     "execution_count": 54,
     "metadata": {},
     "output_type": "execute_result"
    }
   ],
   "source": [
    "ages[0:3]"
   ]
  },
  {
   "cell_type": "code",
   "execution_count": null,
   "metadata": {
    "colab": {
     "base_uri": "https://localhost:8080/"
    },
    "id": "EZNFGaIRCIJU",
    "outputId": "6699ee86-c050-45cd-9a49-97d50bc7e31e"
   },
   "outputs": [
    {
     "data": {
      "text/plain": [
       "[2, 3, 4]"
      ]
     },
     "execution_count": 55,
     "metadata": {},
     "output_type": "execute_result"
    }
   ],
   "source": [
    "ages[1:]"
   ]
  },
  {
   "cell_type": "markdown",
   "metadata": {
    "id": "Vuvk6KCQCjci"
   },
   "source": [
    "## Bucles y Lazos"
   ]
  },
  {
   "cell_type": "code",
   "execution_count": null,
   "metadata": {
    "id": "LuT2_m2mCnoE"
   },
   "outputs": [],
   "source": [
    "ages=[18,22,15,50]"
   ]
  },
  {
   "cell_type": "code",
   "execution_count": null,
   "metadata": {
    "colab": {
     "base_uri": "https://localhost:8080/"
    },
    "id": "dnl7ht_oDCk7",
    "outputId": "6c5ab5a2-7ca6-4243-f0ee-af1556fbfce6"
   },
   "outputs": [
    {
     "name": "stdout",
     "output_type": "stream",
     "text": [
      "La persona de 18 años puede conducir\n",
      "La persona de 22 años puede conducir\n",
      "La persona de 15 años no puede conducir\n",
      "La persona de 50 años puede conducir\n"
     ]
    }
   ],
   "source": [
    "for age in ages:\n",
    "  VericateIfCanDrive(age)"
   ]
  },
  {
   "cell_type": "code",
   "execution_count": null,
   "metadata": {
    "colab": {
     "base_uri": "https://localhost:8080/"
    },
    "id": "Nflm2n9mEth_",
    "outputId": "c108aabe-5a5f-4edb-ce34-8d1adf850263"
   },
   "outputs": [
    {
     "name": "stdout",
     "output_type": "stream",
     "text": [
      "La persona de 18 años puede conducir\n",
      "La persona de 22 años puede conducir\n",
      "La persona de 15 años no puede conducir\n",
      "La persona de 50 años puede conducir\n"
     ]
    }
   ],
   "source": [
    "def VerificateIfCanDriveWithBucle(ages):\n",
    "  for age in ages:\n",
    "    if age>=18:\n",
    "      print(f\"La persona de {age} años puede conducir\")\n",
    "    else:\n",
    "      print(f\"La persona de {age} años no puede conducir\")\n",
    "VerificateIfCanDriveWithBucle(ages)"
   ]
  },
  {
   "cell_type": "markdown",
   "metadata": {
    "id": "-Pgm9b7VFk1S"
   },
   "source": [
    "## Booleanos"
   ]
  },
  {
   "cell_type": "code",
   "execution_count": null,
   "metadata": {
    "colab": {
     "base_uri": "https://localhost:8080/"
    },
    "id": "Z_SG4wBgFojx",
    "outputId": "48b34856-e184-4109-cd73-84976ae62719"
   },
   "outputs": [
    {
     "data": {
      "text/plain": [
       "False"
      ]
     },
     "execution_count": 67,
     "metadata": {},
     "output_type": "execute_result"
    }
   ],
   "source": [
    "age =15\n",
    "age>=18"
   ]
  },
  {
   "cell_type": "code",
   "execution_count": null,
   "metadata": {
    "id": "tnnI2JVkGMg7"
   },
   "outputs": [],
   "source": [
    "auth=[]"
   ]
  },
  {
   "cell_type": "code",
   "execution_count": null,
   "metadata": {
    "colab": {
     "base_uri": "https://localhost:8080/"
    },
    "id": "RVbuU8xNGJbs",
    "outputId": "ef080925-f64e-466f-8255-4246379366f0"
   },
   "outputs": [
    {
     "data": {
      "text/plain": [
       "[True, True, False, True]"
      ]
     },
     "execution_count": 74,
     "metadata": {},
     "output_type": "execute_result"
    }
   ],
   "source": [
    "auth.clear()\n",
    "def VerificateIfCanDriveWithBucle(ages, auth):\n",
    "  for age in ages:\n",
    "    if age>=18:\n",
    "      auth.append(True)\n",
    "    else:\n",
    "      auth.append(False)\n",
    "VerificateIfCanDriveWithBucle(ages,auth)\n",
    "auth"
   ]
  },
  {
   "cell_type": "code",
   "execution_count": null,
   "metadata": {
    "colab": {
     "base_uri": "https://localhost:8080/"
    },
    "id": "8ZCEulwTHjP_",
    "outputId": "bffb79f2-17f8-43c9-c4fd-01f922afdc67"
   },
   "outputs": [
    {
     "name": "stdout",
     "output_type": "stream",
     "text": [
      "Puede conducir\n",
      "Puede conducir\n",
      "No puede conducir\n",
      "Puede conducir\n"
     ]
    }
   ],
   "source": [
    "for person in auth:\n",
    "  if person==True:\n",
    "    print(\"Puede conducir\")\n",
    "  else:\n",
    "    print(\"No puede conducir\")"
   ]
  },
  {
   "cell_type": "markdown",
   "metadata": {
    "id": "xxtJei7RH_bR"
   },
   "source": [
    "## Tipos en una lista"
   ]
  },
  {
   "cell_type": "code",
   "execution_count": null,
   "metadata": {
    "colab": {
     "base_uri": "https://localhost:8080/"
    },
    "id": "yandypgIICAC",
    "outputId": "de5dd8bf-f401-4d34-821b-53f5a9656ced"
   },
   "outputs": [
    {
     "name": "stdout",
     "output_type": "stream",
     "text": [
      "El elemento Mauricio es del tipo:  <class 'str'>\n",
      "El elemento 1 es del tipo:  <class 'int'>\n",
      "El elemento True es del tipo:  <class 'bool'>\n",
      "El elemento 18 es del tipo:  <class 'str'>\n"
     ]
    }
   ],
   "source": [
    "lista = [\"Mauricio\", 1, True, \"18\"]\n",
    "for element in lista:\n",
    "  print(f\"El elemento {element} es del tipo: \", type(element))"
   ]
  },
  {
   "cell_type": "markdown",
   "metadata": {
    "id": "fvBaXTbiIzeS"
   },
   "source": [
    "## Import"
   ]
  },
  {
   "cell_type": "code",
   "execution_count": null,
   "metadata": {
    "id": "LvKIKEeEI1BU"
   },
   "outputs": [],
   "source": [
    "from random import randrange, seed"
   ]
  },
  {
   "cell_type": "code",
   "execution_count": null,
   "metadata": {
    "id": "SRyoY4JxI-9M"
   },
   "outputs": [],
   "source": [
    "seed(8)"
   ]
  },
  {
   "cell_type": "code",
   "execution_count": null,
   "metadata": {
    "colab": {
     "base_uri": "https://localhost:8080/"
    },
    "id": "i9XrY4yRJFW7",
    "outputId": "79d5a29c-2e95-4331-a6f6-ae3f7ab0210d"
   },
   "outputs": [
    {
     "data": {
      "text/plain": [
       "3"
      ]
     },
     "execution_count": 102,
     "metadata": {},
     "output_type": "execute_result"
    }
   ],
   "source": [
    "randrange(0,11)"
   ]
  },
  {
   "cell_type": "code",
   "execution_count": null,
   "metadata": {
    "colab": {
     "base_uri": "https://localhost:8080/"
    },
    "id": "mbjSnLkjJ50b",
    "outputId": "308a0cc8-b885-4123-c4ba-e2d2231ac850"
   },
   "outputs": [
    {
     "data": {
      "text/plain": [
       "[7, 7, 6, 7, 9, 3, 6]"
      ]
     },
     "execution_count": 107,
     "metadata": {},
     "output_type": "execute_result"
    }
   ],
   "source": [
    "notas_mate=[]\n",
    "for notas in range(randrange(0,8)):\n",
    "  notas_mate.append(randrange(0,11))\n",
    "notas_mate"
   ]
  },
  {
   "cell_type": "code",
   "execution_count": null,
   "metadata": {
    "colab": {
     "base_uri": "https://localhost:8080/"
    },
    "id": "JOsETajFKYm0",
    "outputId": "e5b91f46-2c2d-41ef-d31b-f1201f0caae5"
   },
   "outputs": [
    {
     "data": {
      "text/plain": [
       "7"
      ]
     },
     "execution_count": 108,
     "metadata": {},
     "output_type": "execute_result"
    }
   ],
   "source": [
    "len(notas_mate)"
   ]
  },
  {
   "cell_type": "markdown",
   "metadata": {
    "id": "zJsIOBhIKiKx"
   },
   "source": [
    "## Matplotlib"
   ]
  },
  {
   "cell_type": "code",
   "execution_count": null,
   "metadata": {
    "id": "d1nTinsZKDPb"
   },
   "outputs": [],
   "source": [
    "import matplotlib.pyplot as plt"
   ]
  },
  {
   "cell_type": "code",
   "execution_count": null,
   "metadata": {
    "colab": {
     "base_uri": "https://localhost:8080/",
     "height": 235
    },
    "id": "0h-o08lNNa20",
    "outputId": "6046cefc-1a13-45fe-902b-825558d5fcf5"
   },
   "outputs": [
    {
     "ename": "TypeError",
     "evalue": "ignored",
     "output_type": "error",
     "traceback": [
      "\u001b[0;31m---------------------------------------------------------------------------\u001b[0m",
      "\u001b[0;31mTypeError\u001b[0m                                 Traceback (most recent call last)",
      "\u001b[0;32m<ipython-input-139-6f931eee27cc>\u001b[0m in \u001b[0;36m<cell line: 1>\u001b[0;34m()\u001b[0m\n\u001b[0;32m----> 1\u001b[0;31m \u001b[0mx\u001b[0m\u001b[0;34m=\u001b[0m\u001b[0mlist\u001b[0m\u001b[0;34m(\u001b[0m\u001b[0mrange\u001b[0m\u001b[0;34m(\u001b[0m\u001b[0;36m1\u001b[0m\u001b[0;34m,\u001b[0m\u001b[0;36m9\u001b[0m\u001b[0;34m)\u001b[0m\u001b[0;34m)\u001b[0m\u001b[0;34m\u001b[0m\u001b[0;34m\u001b[0m\u001b[0m\n\u001b[0m\u001b[1;32m      2\u001b[0m \u001b[0my\u001b[0m\u001b[0;34m=\u001b[0m\u001b[0mnotas_mate\u001b[0m\u001b[0;34m\u001b[0m\u001b[0;34m\u001b[0m\u001b[0m\n\u001b[1;32m      3\u001b[0m \u001b[0mplt\u001b[0m\u001b[0;34m.\u001b[0m\u001b[0mplot\u001b[0m\u001b[0;34m(\u001b[0m\u001b[0mx\u001b[0m\u001b[0;34m,\u001b[0m\u001b[0my\u001b[0m\u001b[0;34m,\u001b[0m \u001b[0mmarket\u001b[0m\u001b[0;34m=\u001b[0m\u001b[0;34m'o'\u001b[0m\u001b[0;34m)\u001b[0m\u001b[0;34m\u001b[0m\u001b[0;34m\u001b[0m\u001b[0m\n\u001b[1;32m      4\u001b[0m \u001b[0mplt\u001b[0m\u001b[0;34m.\u001b[0m\u001b[0mtitle\u001b[0m\u001b[0;34m(\u001b[0m\u001b[0;34m\"Notas Matemáticas\"\u001b[0m\u001b[0;34m)\u001b[0m\u001b[0;34m\u001b[0m\u001b[0;34m\u001b[0m\u001b[0m\n\u001b[1;32m      5\u001b[0m \u001b[0mplt\u001b[0m\u001b[0;34m.\u001b[0m\u001b[0mxlabel\u001b[0m\u001b[0;34m(\u001b[0m\u001b[0;34m\"Examenes\"\u001b[0m\u001b[0;34m)\u001b[0m\u001b[0;34m\u001b[0m\u001b[0;34m\u001b[0m\u001b[0m\n",
      "\u001b[0;31mTypeError\u001b[0m: 'list' object is not callable"
     ]
    }
   ],
   "source": [
    "x=list(range(1,9))\n",
    "y=notas_mate\n",
    "plt.plot(x,y, market='o')\n",
    "plt.title(\"Notas Matemáticas\")\n",
    "plt.xlabel(\"Examenes\")\n",
    "plt.ylabel(\"Notas\")\n",
    "plt.Show()"
   ]
  },
  {
   "cell_type": "markdown",
   "metadata": {
    "id": "SitS3o9n1H3o"
   },
   "source": [
    "#Dia 2"
   ]
  },
  {
   "cell_type": "code",
   "execution_count": null,
   "metadata": {
    "colab": {
     "base_uri": "https://localhost:8080/"
    },
    "id": "nMF5JWxR1KVW",
    "outputId": "b4ee39e9-8313-438e-a201-82ab8c230f27"
   },
   "outputs": [
    {
     "name": "stdout",
     "output_type": "stream",
     "text": [
      "Brasil gano 5 titulos mundiales de futbol\n"
     ]
    }
   ],
   "source": [
    "print('Brasil gano 5 titulos mundiales de futbol')"
   ]
  },
  {
   "cell_type": "code",
   "execution_count": null,
   "metadata": {
    "colab": {
     "base_uri": "https://localhost:8080/"
    },
    "id": "PHNmgt4F1Vrv",
    "outputId": "8ea70099-b673-4583-b0c8-012f38c304a2"
   },
   "outputs": [
    {
     "name": "stdout",
     "output_type": "stream",
     "text": [
      "Brasil gano 5 titulos mundiales de futbol\n"
     ]
    }
   ],
   "source": [
    "print('Brasil gano 5 titulos mundiales de futbol', sep='-')"
   ]
  },
  {
   "cell_type": "code",
   "execution_count": null,
   "metadata": {
    "colab": {
     "base_uri": "https://localhost:8080/"
    },
    "id": "kaZ1ZTmO1yVv",
    "outputId": "fd713bed-7e40-400f-9fab-ff115771dcb9"
   },
   "outputs": [
    {
     "name": "stdout",
     "output_type": "stream",
     "text": [
      "Brasil-gano-5-titulos-mundiales-de futbol\n"
     ]
    }
   ],
   "source": [
    "print('Brasil', 'gano', 5, 'titulos', 'mundiales', 'de futbol', sep='-')"
   ]
  },
  {
   "cell_type": "code",
   "execution_count": null,
   "metadata": {
    "colab": {
     "base_uri": "https://localhost:8080/"
    },
    "id": "uZvMiu0h2nYn",
    "outputId": "70887fff-2c2c-4b1f-b352-feef5294c5bc"
   },
   "outputs": [
    {
     "name": "stdout",
     "output_type": "stream",
     "text": [
      "Brasil gano 5 titulos mundiales de futbol "
     ]
    }
   ],
   "source": [
    "print('Brasil', 'gano', 5, 'titulos', 'mundiales', 'de futbol', end=' ')"
   ]
  },
  {
   "cell_type": "code",
   "execution_count": null,
   "metadata": {
    "colab": {
     "base_uri": "https://localhost:8080/"
    },
    "id": "hRf0ZGgF27aW",
    "outputId": "3ce5cd4d-b11a-4337-f20a-696f1a5a3613"
   },
   "outputs": [
    {
     "name": "stdout",
     "output_type": "stream",
     "text": [
      "Argentina gano 3 titulos\n",
      "Italia gano 2 titulos\n",
      "Brasil gano 5 titulos\n"
     ]
    }
   ],
   "source": [
    "paises = ['Argentina', 'Italia', 'Brasil']\n",
    "titulos=[3, 2, 5]\n",
    "for i, pais in enumerate(paises):\n",
    "  print(f'{paises[i]} gano {titulos[i]} titulos')"
   ]
  },
  {
   "cell_type": "markdown",
   "metadata": {
    "id": "12CnMz0X5haw"
   },
   "source": [
    "##Juego Adivinanza"
   ]
  },
  {
   "cell_type": "code",
   "execution_count": null,
   "metadata": {
    "id": "itaXvC3w7xNY"
   },
   "outputs": [],
   "source": [
    "def verificar_Entero():\n",
    "  isInt=False\n",
    "  while isInt==False:\n",
    "    variable=input(\"Ingrese el numero: \")\n",
    "    if variable.isdigit():\n",
    "      isInt=True\n",
    "  variable=int(variable)\n",
    "  return variable"
   ]
  },
  {
   "cell_type": "code",
   "execution_count": null,
   "metadata": {
    "id": "jNqLMQsfDzua"
   },
   "outputs": [],
   "source": [
    "def cercania_Numeros(num1, num2):\n",
    "  diferencia=abs(num1-num2)\n",
    "  if(diferencia<=10):\n",
    "    print(\"Estas muy cerca!\")\n",
    "  elif(diferencia>10 and diferencia<30):\n",
    "    print(\"Ni tan cerca, ni tan lejos, TU PUEDES!\")\n",
    "  else:\n",
    "    print(\"Estas demasiado lejos del numero!\")"
   ]
  },
  {
   "cell_type": "code",
   "execution_count": null,
   "metadata": {
    "id": "xzwxnzJkNFgS"
   },
   "outputs": [],
   "source": [
    "def menu_Dificultad():\n",
    "  print(\"\\tSeleccione un nivel de dificultad \\n\\t(1)Facil | (2)Medio | (3)Dificil\")\n",
    "  dificultad=verificar_Entero()\n",
    "  if(dificultad==1):\n",
    "    return 20\n",
    "  elif(dificultad==2):\n",
    "    return 10\n",
    "  else:\n",
    "    return 5"
   ]
  },
  {
   "cell_type": "markdown",
   "metadata": {
    "id": "QB_I_-MKCdMw"
   },
   "source": [
    "##Juego Adivinanza"
   ]
  },
  {
   "cell_type": "code",
   "execution_count": null,
   "metadata": {
    "colab": {
     "base_uri": "https://localhost:8080/"
    },
    "id": "sImW3Adp3fDK",
    "outputId": "4d5a4373-5a50-46fe-ddbc-5c70535df4f5"
   },
   "outputs": [
    {
     "name": "stdout",
     "output_type": "stream",
     "text": [
      "=================================================\n",
      "\t\tJuego Adivinanza\n",
      "=================================================\n",
      "76\n",
      "\tSeleccione un nivel de dificultad \n",
      "\t(1)Facil | (2)Medio | (3)Dificil\n",
      "Ingrese un numero: 1\n",
      "\t\tIntento #1 de 20\n",
      "\t\t\t\tPuntaje: 100\n",
      "Ingrese un numero: 76\n",
      "<><> Verificando si 76 es el numero secreto <><>\n",
      "¡¡¡Felicidades! Adivinaste el numero con 1 solo intento!!!\n",
      "=================================================\n",
      "\t\tFin del Juego\n",
      "=================================================\n"
     ]
    }
   ],
   "source": [
    "from random import randrange as rndrange\n",
    "print(\"=================================================\")\n",
    "print(\"\\t\\tJuego Adivinanza\")\n",
    "print(\"=================================================\")\n",
    "\n",
    "numeroSecreto=round(rndrange(0,100))\n",
    "print(numeroSecreto)\n",
    "maxIntentos=menu_Dificultad()\n",
    "puntaje=0\n",
    "if(maxIntentos==20):\n",
    "  puntaje=100\n",
    "elif(maxIntentos==10):\n",
    "  puntaje=1000\n",
    "else:\n",
    "  puntaje=1000000\n",
    "for intento in range(1, maxIntentos+1,1):\n",
    "    if(intento<maxIntentos):\n",
    "      print(\"\\t\\tIntento #{} de {}\".format(intento, maxIntentos))\n",
    "      print(f\"\\t\\t\\t\\tPuntaje: {puntaje}\")\n",
    "    else:\n",
    "      print(\"\\t\\tIntento #{} de {}\".format(intento, maxIntentos))\n",
    "      print(f\"Puntaje: {puntaje}\")\n",
    "      print(\"\\t¡¡¡Atento! Estas en tu ultimo intento!!!\")\n",
    "    entrada=verificar_Entero()\n",
    "    if(entrada<1 or entrada>100):\n",
    "      print(\"¡¡¡Debe ingresar un numero entre 1 y 100!!!\")\n",
    "      puntaje=round(puntaje-(puntaje*0.2))\n",
    "      continue\n",
    "    print(f\"<><> Verificando si {entrada} es el numero secreto <><>\")\n",
    "\n",
    "    if(entrada==numeroSecreto):\n",
    "      if(intento>1):\n",
    "        print(f\"¡¡¡Felicidades! Adivinaste el numero con {intento} intentos!!!\")\n",
    "      else:\n",
    "        print(f\"¡¡¡Felicidades! Adivinaste el numero con {intento} solo intento!!!\")\n",
    "      acertado=True\n",
    "      break\n",
    "    elif(entrada<numeroSecreto):\n",
    "      print(\"<><> El numero ingresado es menor que el secreto! <><>\")\n",
    "      cercania_Numeros(entrada, numeroSecreto)\n",
    "      intento+=1\n",
    "      puntaje=round(puntaje-(puntaje*0.2))\n",
    "    else:\n",
    "      print(\"<><> El numero es mayor que el secreto! <><>\")\n",
    "      cercania_Numeros(entrada, numeroSecreto)\n",
    "      intento+=1\n",
    "      puntaje=round(puntaje-(puntaje*0.2))\n",
    "print(\"=================================================\")\n",
    "print(\"\\t\\tFin del Juego\")\n",
    "print(\"=================================================\")"
   ]
  },
  {
   "cell_type": "code",
   "execution_count": null,
   "metadata": {
    "colab": {
     "base_uri": "https://localhost:8080/"
    },
    "id": "HOK1O0ytFsjJ",
    "outputId": "ff48d719-0f5f-422e-bafc-1dd7a63bcbf3",
    "scrolled": false
   },
   "outputs": [
    {
     "name": "stdout",
     "output_type": "stream",
     "text": [
      "20\n",
      "18\n",
      "16\n",
      "14\n",
      "12\n",
      "10\n",
      "8\n",
      "6\n",
      "4\n",
      "2\n"
     ]
    }
   ],
   "source": [
    "for i in range(20,1,-2):\n",
    "  print(i)"
   ]
  },
  {
   "cell_type": "code",
   "execution_count": 13,
   "metadata": {},
   "outputs": [
    {
     "name": "stdout",
     "output_type": "stream",
     "text": [
      "=======================\n",
      "BIENVENIDO AL JUEGO DEL AHORCADO\n",
      "=======================\n",
      "ingrese una letra :mandarina\n",
      "jugando...\n",
      "ingrese una letra :a\n",
      "a\n",
      "a\n",
      "a\n",
      "jugando...\n",
      "ingrese una letra :b\n",
      "jugando...\n",
      "ingrese una letra :b\n",
      "jugando...\n",
      "ingrese una letra :manarina\n",
      "jugando...\n",
      "ingrese una letra :i\n",
      "i\n",
      "jugando...\n",
      "ingrese una letra :mandarina\n",
      "jugando...\n",
      "ingrese una letra :A\n",
      "jugando...\n",
      "ingrese una letra :a\n",
      "a\n",
      "a\n",
      "a\n",
      "jugando...\n"
     ]
    },
    {
     "ename": "KeyboardInterrupt",
     "evalue": "Interrupted by user",
     "output_type": "error",
     "traceback": [
      "\u001b[1;31m---------------------------------------------------------------------------\u001b[0m",
      "\u001b[1;31mKeyboardInterrupt\u001b[0m                         Traceback (most recent call last)",
      "\u001b[1;32m~\\AppData\\Local\\Temp\\ipykernel_3844\\3120438754.py\u001b[0m in \u001b[0;36m<module>\u001b[1;34m\u001b[0m\n\u001b[0;32m     19\u001b[0m     \u001b[0mprint\u001b[0m\u001b[1;33m(\u001b[0m\u001b[1;34m\"fin del juego\"\u001b[0m\u001b[1;33m)\u001b[0m\u001b[1;33m\u001b[0m\u001b[1;33m\u001b[0m\u001b[0m\n\u001b[0;32m     20\u001b[0m \u001b[1;32mif\u001b[0m\u001b[1;33m(\u001b[0m\u001b[0m__name__\u001b[0m\u001b[1;33m==\u001b[0m\u001b[1;34m\"__main__\"\u001b[0m\u001b[1;33m)\u001b[0m\u001b[1;33m:\u001b[0m\u001b[1;33m\u001b[0m\u001b[1;33m\u001b[0m\u001b[0m\n\u001b[1;32m---> 21\u001b[1;33m     \u001b[0mjugar\u001b[0m\u001b[1;33m(\u001b[0m\u001b[1;33m)\u001b[0m\u001b[1;33m\u001b[0m\u001b[1;33m\u001b[0m\u001b[0m\n\u001b[0m\u001b[0;32m     22\u001b[0m \u001b[1;33m\u001b[0m\u001b[0m\n",
      "\u001b[1;32m~\\AppData\\Local\\Temp\\ipykernel_3844\\3120438754.py\u001b[0m in \u001b[0;36mjugar\u001b[1;34m()\u001b[0m\n\u001b[0;32m      8\u001b[0m     \u001b[1;32mwhile\u001b[0m \u001b[1;33m(\u001b[0m\u001b[1;32mnot\u001b[0m \u001b[0mahorcado\u001b[0m \u001b[1;32mand\u001b[0m \u001b[1;32mnot\u001b[0m \u001b[0macerto\u001b[0m\u001b[1;33m)\u001b[0m\u001b[1;33m:\u001b[0m\u001b[1;33m\u001b[0m\u001b[1;33m\u001b[0m\u001b[0m\n\u001b[0;32m      9\u001b[0m \u001b[1;33m\u001b[0m\u001b[0m\n\u001b[1;32m---> 10\u001b[1;33m         \u001b[0mentrada\u001b[0m \u001b[1;33m=\u001b[0m\u001b[0minput\u001b[0m\u001b[1;33m(\u001b[0m\u001b[1;34m\"ingrese una letra :\"\u001b[0m\u001b[1;33m)\u001b[0m\u001b[1;33m\u001b[0m\u001b[1;33m\u001b[0m\u001b[0m\n\u001b[0m\u001b[0;32m     11\u001b[0m         \u001b[1;32mfor\u001b[0m \u001b[0mletra\u001b[0m \u001b[1;32min\u001b[0m \u001b[0mpalabra_secreta\u001b[0m\u001b[1;33m:\u001b[0m\u001b[1;33m\u001b[0m\u001b[1;33m\u001b[0m\u001b[0m\n\u001b[0;32m     12\u001b[0m \u001b[1;33m\u001b[0m\u001b[0m\n",
      "\u001b[1;32mC:\\ProgramData\\Anaconda3\\lib\\site-packages\\ipykernel\\kernelbase.py\u001b[0m in \u001b[0;36mraw_input\u001b[1;34m(self, prompt)\u001b[0m\n\u001b[0;32m   1175\u001b[0m                 \u001b[1;34m\"raw_input was called, but this frontend does not support input requests.\"\u001b[0m\u001b[1;33m\u001b[0m\u001b[1;33m\u001b[0m\u001b[0m\n\u001b[0;32m   1176\u001b[0m             )\n\u001b[1;32m-> 1177\u001b[1;33m         return self._input_request(\n\u001b[0m\u001b[0;32m   1178\u001b[0m             \u001b[0mstr\u001b[0m\u001b[1;33m(\u001b[0m\u001b[0mprompt\u001b[0m\u001b[1;33m)\u001b[0m\u001b[1;33m,\u001b[0m\u001b[1;33m\u001b[0m\u001b[1;33m\u001b[0m\u001b[0m\n\u001b[0;32m   1179\u001b[0m             \u001b[0mself\u001b[0m\u001b[1;33m.\u001b[0m\u001b[0m_parent_ident\u001b[0m\u001b[1;33m[\u001b[0m\u001b[1;34m\"shell\"\u001b[0m\u001b[1;33m]\u001b[0m\u001b[1;33m,\u001b[0m\u001b[1;33m\u001b[0m\u001b[1;33m\u001b[0m\u001b[0m\n",
      "\u001b[1;32mC:\\ProgramData\\Anaconda3\\lib\\site-packages\\ipykernel\\kernelbase.py\u001b[0m in \u001b[0;36m_input_request\u001b[1;34m(self, prompt, ident, parent, password)\u001b[0m\n\u001b[0;32m   1217\u001b[0m             \u001b[1;32mexcept\u001b[0m \u001b[0mKeyboardInterrupt\u001b[0m\u001b[1;33m:\u001b[0m\u001b[1;33m\u001b[0m\u001b[1;33m\u001b[0m\u001b[0m\n\u001b[0;32m   1218\u001b[0m                 \u001b[1;31m# re-raise KeyboardInterrupt, to truncate traceback\u001b[0m\u001b[1;33m\u001b[0m\u001b[1;33m\u001b[0m\u001b[0m\n\u001b[1;32m-> 1219\u001b[1;33m                 \u001b[1;32mraise\u001b[0m \u001b[0mKeyboardInterrupt\u001b[0m\u001b[1;33m(\u001b[0m\u001b[1;34m\"Interrupted by user\"\u001b[0m\u001b[1;33m)\u001b[0m \u001b[1;32mfrom\u001b[0m \u001b[1;32mNone\u001b[0m\u001b[1;33m\u001b[0m\u001b[1;33m\u001b[0m\u001b[0m\n\u001b[0m\u001b[0;32m   1220\u001b[0m             \u001b[1;32mexcept\u001b[0m \u001b[0mException\u001b[0m\u001b[1;33m:\u001b[0m\u001b[1;33m\u001b[0m\u001b[1;33m\u001b[0m\u001b[0m\n\u001b[0;32m   1221\u001b[0m                 \u001b[0mself\u001b[0m\u001b[1;33m.\u001b[0m\u001b[0mlog\u001b[0m\u001b[1;33m.\u001b[0m\u001b[0mwarning\u001b[0m\u001b[1;33m(\u001b[0m\u001b[1;34m\"Invalid Message:\"\u001b[0m\u001b[1;33m,\u001b[0m \u001b[0mexc_info\u001b[0m\u001b[1;33m=\u001b[0m\u001b[1;32mTrue\u001b[0m\u001b[1;33m)\u001b[0m\u001b[1;33m\u001b[0m\u001b[1;33m\u001b[0m\u001b[0m\n",
      "\u001b[1;31mKeyboardInterrupt\u001b[0m: Interrupted by user"
     ]
    }
   ],
   "source": [
    "def jugar():\n",
    "    print (\"=======================\")\n",
    "    print(\"BIENVENIDO AL JUEGO DEL AHORCADO\")\n",
    "    print (\"=======================\")\n",
    "    palabra_secreta=\"mandarina \"\n",
    "    ahorcado = False\n",
    "    acerto = False\n",
    "    while (not ahorcado and not acerto):\n",
    "        \n",
    "        entrada =input(\"ingrese una letra :\")\n",
    "        for letra in palabra_secreta:\n",
    "            \n",
    "            if(entrada ==letra):\n",
    "                \n",
    "                print(entrada)\n",
    "                \n",
    "        print(\"jugando...\")\n",
    "\n",
    "    print(\"fin del juego\")\n",
    "if(__name__==\"__main__\"):\n",
    "    jugar()     \n",
    "        "
   ]
  },
  {
   "cell_type": "markdown",
   "metadata": {},
   "source": [
    "## funciones en el manejo de cadenas"
   ]
  },
  {
   "cell_type": "code",
   "execution_count": 26,
   "metadata": {},
   "outputs": [
    {
     "data": {
      "text/plain": [
       "'Mandarina'"
      ]
     },
     "execution_count": 26,
     "metadata": {},
     "output_type": "execute_result"
    }
   ],
   "source": [
    "palabra =\"mandarina\"\n",
    "palabra.capitalize() ## conbierte en mayuscula la primera letra\n"
   ]
  },
  {
   "cell_type": "code",
   "execution_count": 27,
   "metadata": {},
   "outputs": [
    {
     "data": {
      "text/plain": [
       "True"
      ]
     },
     "execution_count": 27,
     "metadata": {},
     "output_type": "execute_result"
    }
   ],
   "source": [
    "palabra.endswith(\"na\") \n"
   ]
  },
  {
   "cell_type": "code",
   "execution_count": 23,
   "metadata": {},
   "outputs": [
    {
     "data": {
      "text/plain": [
       "'progracion tres'"
      ]
     },
     "execution_count": 23,
     "metadata": {},
     "output_type": "execute_result"
    }
   ],
   "source": [
    "palabra2 =\"PROGRACION TRES\" ## para colocar en minuscula el mayuscula \n",
    "palabra2.lower()"
   ]
  },
  {
   "cell_type": "code",
   "execution_count": 24,
   "metadata": {},
   "outputs": [
    {
     "data": {
      "text/plain": [
       "'pepe'"
      ]
     },
     "execution_count": 24,
     "metadata": {},
     "output_type": "execute_result"
    }
   ],
   "source": [
    "palabra = \" pepe\"\n",
    "palabra.strip() ## elimina los espacios en blanco hacia la dere e isqui"
   ]
  },
  {
   "cell_type": "markdown",
   "metadata": {},
   "source": [
    "## manipulando cadena"
   ]
  },
  {
   "cell_type": "code",
   "execution_count": 28,
   "metadata": {},
   "outputs": [
    {
     "data": {
      "text/plain": [
       "str"
      ]
     },
     "execution_count": 28,
     "metadata": {},
     "output_type": "execute_result"
    }
   ],
   "source": [
    "palabra = \"mandarina\"\n",
    "type(palabra)"
   ]
  },
  {
   "cell_type": "code",
   "execution_count": 29,
   "metadata": {},
   "outputs": [
    {
     "data": {
      "text/plain": [
       "0"
      ]
     },
     "execution_count": 29,
     "metadata": {},
     "output_type": "execute_result"
    }
   ],
   "source": [
    "palabra.find(\"m\")"
   ]
  },
  {
   "cell_type": "code",
   "execution_count": 31,
   "metadata": {},
   "outputs": [
    {
     "data": {
      "text/plain": [
       "3"
      ]
     },
     "execution_count": 31,
     "metadata": {},
     "output_type": "execute_result"
    }
   ],
   "source": [
    "palabra.find(\"d\")"
   ]
  },
  {
   "cell_type": "markdown",
   "metadata": {},
   "source": [
    "## si no ecuentra el, valor devuelto devuelve -1\n"
   ]
  },
  {
   "cell_type": "code",
   "execution_count": 33,
   "metadata": {},
   "outputs": [
    {
     "data": {
      "text/plain": [
       "-1"
      ]
     },
     "execution_count": 33,
     "metadata": {},
     "output_type": "execute_result"
    }
   ],
   "source": [
    "palabra.find(\"z\")"
   ]
  },
  {
   "cell_type": "code",
   "execution_count": 38,
   "metadata": {},
   "outputs": [
    {
     "name": "stdout",
     "output_type": "stream",
     "text": [
      "=======================\n",
      "BIENVENIDO AL JUEGO DEL AHORCADO\n",
      "=======================\n",
      "ingrese una letra :pepe\n",
      "jugando...\n",
      "ingrese una letra :p\n",
      "jugando...\n",
      "ingrese una letra :mandarina\n",
      "jugando...\n",
      "ingrese una letra :\n",
      "jugando...\n",
      "ingrese una letra :mandarina\n",
      "jugando...\n",
      "ingrese una letra :A\n",
      "se encontro la letra a en la posicion 1 \n",
      "se encontro la letra a en la posicion 4 \n",
      "se encontro la letra a en la posicion 8 \n",
      "jugando...\n"
     ]
    },
    {
     "ename": "KeyboardInterrupt",
     "evalue": "Interrupted by user",
     "output_type": "error",
     "traceback": [
      "\u001b[1;31m---------------------------------------------------------------------------\u001b[0m",
      "\u001b[1;31mKeyboardInterrupt\u001b[0m                         Traceback (most recent call last)",
      "\u001b[1;32m~\\AppData\\Local\\Temp\\ipykernel_3844\\3237399903.py\u001b[0m in \u001b[0;36m<module>\u001b[1;34m\u001b[0m\n\u001b[0;32m     24\u001b[0m     \u001b[0mprint\u001b[0m\u001b[1;33m(\u001b[0m\u001b[1;34m\"fin del juego\"\u001b[0m\u001b[1;33m)\u001b[0m\u001b[1;33m\u001b[0m\u001b[1;33m\u001b[0m\u001b[0m\n\u001b[0;32m     25\u001b[0m \u001b[1;32mif\u001b[0m\u001b[1;33m(\u001b[0m\u001b[0m__name__\u001b[0m\u001b[1;33m==\u001b[0m\u001b[1;34m\"__main__\"\u001b[0m\u001b[1;33m)\u001b[0m\u001b[1;33m:\u001b[0m\u001b[1;33m\u001b[0m\u001b[1;33m\u001b[0m\u001b[0m\n\u001b[1;32m---> 26\u001b[1;33m     \u001b[0mjugar\u001b[0m\u001b[1;33m(\u001b[0m\u001b[1;33m)\u001b[0m\u001b[1;33m\u001b[0m\u001b[1;33m\u001b[0m\u001b[0m\n\u001b[0m\u001b[0;32m     27\u001b[0m \u001b[1;33m\u001b[0m\u001b[0m\n",
      "\u001b[1;32m~\\AppData\\Local\\Temp\\ipykernel_3844\\3237399903.py\u001b[0m in \u001b[0;36mjugar\u001b[1;34m()\u001b[0m\n\u001b[0;32m      8\u001b[0m     \u001b[1;32mwhile\u001b[0m \u001b[1;33m(\u001b[0m\u001b[1;32mnot\u001b[0m \u001b[0mahorcado\u001b[0m \u001b[1;32mand\u001b[0m \u001b[1;32mnot\u001b[0m \u001b[0macerto\u001b[0m\u001b[1;33m)\u001b[0m\u001b[1;33m:\u001b[0m\u001b[1;33m\u001b[0m\u001b[1;33m\u001b[0m\u001b[0m\n\u001b[0;32m      9\u001b[0m \u001b[1;33m\u001b[0m\u001b[0m\n\u001b[1;32m---> 10\u001b[1;33m         \u001b[0mentrada\u001b[0m \u001b[1;33m=\u001b[0m\u001b[0minput\u001b[0m\u001b[1;33m(\u001b[0m\u001b[1;34m\"ingrese una letra :\"\u001b[0m\u001b[1;33m)\u001b[0m\u001b[1;33m\u001b[0m\u001b[1;33m\u001b[0m\u001b[0m\n\u001b[0m\u001b[0;32m     11\u001b[0m         \u001b[0mentrada\u001b[0m\u001b[1;33m=\u001b[0m\u001b[0mentrada\u001b[0m\u001b[1;33m.\u001b[0m\u001b[0mstrip\u001b[0m\u001b[1;33m(\u001b[0m\u001b[1;33m)\u001b[0m\u001b[1;33m\u001b[0m\u001b[1;33m\u001b[0m\u001b[0m\n\u001b[0;32m     12\u001b[0m         \u001b[0mentrada\u001b[0m \u001b[1;33m=\u001b[0m \u001b[0mentrada\u001b[0m\u001b[1;33m.\u001b[0m\u001b[0mlower\u001b[0m\u001b[1;33m(\u001b[0m\u001b[1;33m)\u001b[0m\u001b[1;33m\u001b[0m\u001b[1;33m\u001b[0m\u001b[0m\n",
      "\u001b[1;32mC:\\ProgramData\\Anaconda3\\lib\\site-packages\\ipykernel\\kernelbase.py\u001b[0m in \u001b[0;36mraw_input\u001b[1;34m(self, prompt)\u001b[0m\n\u001b[0;32m   1175\u001b[0m                 \u001b[1;34m\"raw_input was called, but this frontend does not support input requests.\"\u001b[0m\u001b[1;33m\u001b[0m\u001b[1;33m\u001b[0m\u001b[0m\n\u001b[0;32m   1176\u001b[0m             )\n\u001b[1;32m-> 1177\u001b[1;33m         return self._input_request(\n\u001b[0m\u001b[0;32m   1178\u001b[0m             \u001b[0mstr\u001b[0m\u001b[1;33m(\u001b[0m\u001b[0mprompt\u001b[0m\u001b[1;33m)\u001b[0m\u001b[1;33m,\u001b[0m\u001b[1;33m\u001b[0m\u001b[1;33m\u001b[0m\u001b[0m\n\u001b[0;32m   1179\u001b[0m             \u001b[0mself\u001b[0m\u001b[1;33m.\u001b[0m\u001b[0m_parent_ident\u001b[0m\u001b[1;33m[\u001b[0m\u001b[1;34m\"shell\"\u001b[0m\u001b[1;33m]\u001b[0m\u001b[1;33m,\u001b[0m\u001b[1;33m\u001b[0m\u001b[1;33m\u001b[0m\u001b[0m\n",
      "\u001b[1;32mC:\\ProgramData\\Anaconda3\\lib\\site-packages\\ipykernel\\kernelbase.py\u001b[0m in \u001b[0;36m_input_request\u001b[1;34m(self, prompt, ident, parent, password)\u001b[0m\n\u001b[0;32m   1217\u001b[0m             \u001b[1;32mexcept\u001b[0m \u001b[0mKeyboardInterrupt\u001b[0m\u001b[1;33m:\u001b[0m\u001b[1;33m\u001b[0m\u001b[1;33m\u001b[0m\u001b[0m\n\u001b[0;32m   1218\u001b[0m                 \u001b[1;31m# re-raise KeyboardInterrupt, to truncate traceback\u001b[0m\u001b[1;33m\u001b[0m\u001b[1;33m\u001b[0m\u001b[0m\n\u001b[1;32m-> 1219\u001b[1;33m                 \u001b[1;32mraise\u001b[0m \u001b[0mKeyboardInterrupt\u001b[0m\u001b[1;33m(\u001b[0m\u001b[1;34m\"Interrupted by user\"\u001b[0m\u001b[1;33m)\u001b[0m \u001b[1;32mfrom\u001b[0m \u001b[1;32mNone\u001b[0m\u001b[1;33m\u001b[0m\u001b[1;33m\u001b[0m\u001b[0m\n\u001b[0m\u001b[0;32m   1220\u001b[0m             \u001b[1;32mexcept\u001b[0m \u001b[0mException\u001b[0m\u001b[1;33m:\u001b[0m\u001b[1;33m\u001b[0m\u001b[1;33m\u001b[0m\u001b[0m\n\u001b[0;32m   1221\u001b[0m                 \u001b[0mself\u001b[0m\u001b[1;33m.\u001b[0m\u001b[0mlog\u001b[0m\u001b[1;33m.\u001b[0m\u001b[0mwarning\u001b[0m\u001b[1;33m(\u001b[0m\u001b[1;34m\"Invalid Message:\"\u001b[0m\u001b[1;33m,\u001b[0m \u001b[0mexc_info\u001b[0m\u001b[1;33m=\u001b[0m\u001b[1;32mTrue\u001b[0m\u001b[1;33m)\u001b[0m\u001b[1;33m\u001b[0m\u001b[1;33m\u001b[0m\u001b[0m\n",
      "\u001b[1;31mKeyboardInterrupt\u001b[0m: Interrupted by user"
     ]
    }
   ],
   "source": [
    "def jugar():\n",
    "    print (\"=======================\")\n",
    "    print(\"BIENVENIDO AL JUEGO DEL AHORCADO\")\n",
    "    print (\"=======================\")\n",
    "    palabra_secreta=\"mandarina \"\n",
    "    ahorcado = False\n",
    "    acerto = False\n",
    "    while (not ahorcado and not acerto):\n",
    "        \n",
    "        entrada =input(\"ingrese una letra :\")\n",
    "        entrada=entrada.strip()\n",
    "        entrada = entrada.lower()\n",
    "        indice=0\n",
    "        for letra in palabra_secreta:\n",
    "            \n",
    "            if(entrada ==letra):\n",
    "                \n",
    "                print(\"se encontro la letra {} en la posicion {} \".format(letra, indice))\n",
    "                \n",
    "            indice=indice+1\n",
    "                \n",
    "        print(\"jugando...\")\n",
    "\n",
    "    print(\"fin del juego\")\n",
    "if(__name__==\"__main__\"):\n",
    "    jugar()     \n",
    "        "
   ]
  },
  {
   "cell_type": "markdown",
   "metadata": {},
   "source": [
    "## listas "
   ]
  },
  {
   "cell_type": "code",
   "execution_count": 47,
   "metadata": {},
   "outputs": [
    {
     "data": {
      "text/plain": [
       "list"
      ]
     },
     "execution_count": 47,
     "metadata": {},
     "output_type": "execute_result"
    }
   ],
   "source": [
    "valores=[]\n",
    "type(valores)"
   ]
  },
  {
   "cell_type": "code",
   "execution_count": 48,
   "metadata": {},
   "outputs": [
    {
     "data": {
      "text/plain": [
       "False"
      ]
     },
     "execution_count": 48,
     "metadata": {},
     "output_type": "execute_result"
    }
   ],
   "source": [
    "valores=[0,1,2,3,4,\"x\"]\n",
    "7 in valores"
   ]
  },
  {
   "cell_type": "code",
   "execution_count": 49,
   "metadata": {},
   "outputs": [
    {
     "data": {
      "text/plain": [
       "True"
      ]
     },
     "execution_count": 49,
     "metadata": {},
     "output_type": "execute_result"
    }
   ],
   "source": [
    "2 in valores"
   ]
  },
  {
   "cell_type": "code",
   "execution_count": 50,
   "metadata": {},
   "outputs": [
    {
     "data": {
      "text/plain": [
       "True"
      ]
     },
     "execution_count": 50,
     "metadata": {},
     "output_type": "execute_result"
    }
   ],
   "source": [
    "\"a\"in \"mandarina\""
   ]
  },
  {
   "cell_type": "code",
   "execution_count": 51,
   "metadata": {},
   "outputs": [
    {
     "data": {
      "text/plain": [
       "'x'"
      ]
     },
     "execution_count": 51,
     "metadata": {},
     "output_type": "execute_result"
    }
   ],
   "source": [
    "valores[5]"
   ]
  },
  {
   "cell_type": "code",
   "execution_count": 46,
   "metadata": {},
   "outputs": [
    {
     "ename": "TypeError",
     "evalue": "'<' not supported between instances of 'str' and 'int'",
     "output_type": "error",
     "traceback": [
      "\u001b[1;31m---------------------------------------------------------------------------\u001b[0m",
      "\u001b[1;31mTypeError\u001b[0m                                 Traceback (most recent call last)",
      "\u001b[1;32m~\\AppData\\Local\\Temp\\ipykernel_3844\\3215815605.py\u001b[0m in \u001b[0;36m<module>\u001b[1;34m\u001b[0m\n\u001b[1;32m----> 1\u001b[1;33m \u001b[0mmin\u001b[0m\u001b[1;33m(\u001b[0m\u001b[0mvalores\u001b[0m\u001b[1;33m)\u001b[0m\u001b[1;33m\u001b[0m\u001b[1;33m\u001b[0m\u001b[0m\n\u001b[0m",
      "\u001b[1;31mTypeError\u001b[0m: '<' not supported between instances of 'str' and 'int'"
     ]
    }
   ],
   "source": [
    "min(valores) ## si  hay una string no funca"
   ]
  },
  {
   "cell_type": "raw",
   "metadata": {},
   "source": []
  },
  {
   "cell_type": "code",
   "execution_count": 53,
   "metadata": {},
   "outputs": [],
   "source": [
    "valores2 = [0,1,2,3,4,5]"
   ]
  },
  {
   "cell_type": "code",
   "execution_count": 55,
   "metadata": {},
   "outputs": [
    {
     "data": {
      "text/plain": [
       "0"
      ]
     },
     "execution_count": 55,
     "metadata": {},
     "output_type": "execute_result"
    }
   ],
   "source": [
    "min(valores2)"
   ]
  },
  {
   "cell_type": "code",
   "execution_count": 56,
   "metadata": {},
   "outputs": [
    {
     "data": {
      "text/plain": [
       "5"
      ]
     },
     "execution_count": 56,
     "metadata": {},
     "output_type": "execute_result"
    }
   ],
   "source": [
    "max(valores2)"
   ]
  },
  {
   "cell_type": "code",
   "execution_count": 57,
   "metadata": {},
   "outputs": [
    {
     "data": {
      "text/plain": [
       "6"
      ]
     },
     "execution_count": 57,
     "metadata": {},
     "output_type": "execute_result"
    }
   ],
   "source": [
    "len(valores2)"
   ]
  },
  {
   "cell_type": "code",
   "execution_count": 61,
   "metadata": {},
   "outputs": [
    {
     "data": {
      "text/plain": [
       "[0, 1, 2, 3, 4, 5, 9, 9, 9]"
      ]
     },
     "execution_count": 61,
     "metadata": {},
     "output_type": "execute_result"
    }
   ],
   "source": [
    "valores2.append(9)\n",
    "valores2"
   ]
  },
  {
   "cell_type": "code",
   "execution_count": 62,
   "metadata": {},
   "outputs": [
    {
     "data": {
      "text/plain": [
       "9"
      ]
     },
     "execution_count": 62,
     "metadata": {},
     "output_type": "execute_result"
    }
   ],
   "source": [
    "valores2.pop()"
   ]
  },
  {
   "cell_type": "code",
   "execution_count": 63,
   "metadata": {},
   "outputs": [
    {
     "data": {
      "text/plain": [
       "[0, 1, 2, 3, 4, 'x']"
      ]
     },
     "execution_count": 63,
     "metadata": {},
     "output_type": "execute_result"
    }
   ],
   "source": [
    "valores"
   ]
  },
  {
   "cell_type": "code",
   "execution_count": 64,
   "metadata": {},
   "outputs": [
    {
     "data": {
      "text/plain": [
       "[0, 1, 2, 3, 4, 5, 9, 9]"
      ]
     },
     "execution_count": 64,
     "metadata": {},
     "output_type": "execute_result"
    }
   ],
   "source": [
    "valores2\n"
   ]
  },
  {
   "cell_type": "code",
   "execution_count": 65,
   "metadata": {},
   "outputs": [
    {
     "data": {
      "text/plain": [
       "9"
      ]
     },
     "execution_count": 65,
     "metadata": {},
     "output_type": "execute_result"
    }
   ],
   "source": [
    "valores2.pop()"
   ]
  },
  {
   "cell_type": "code",
   "execution_count": 66,
   "metadata": {},
   "outputs": [
    {
     "data": {
      "text/plain": [
       "[0, 1, 2, 3, 4, 5, 9]"
      ]
     },
     "execution_count": 66,
     "metadata": {},
     "output_type": "execute_result"
    }
   ],
   "source": [
    "valores2\n"
   ]
  },
  {
   "cell_type": "code",
   "execution_count": 15,
   "metadata": {},
   "outputs": [
    {
     "ename": "IndentationError",
     "evalue": "expected an indented block (490285260.py, line 22)",
     "output_type": "error",
     "traceback": [
      "\u001b[1;36m  File \u001b[1;32m\"C:\\Users\\Control\\AppData\\Local\\Temp\\ipykernel_16076\\490285260.py\"\u001b[1;36m, line \u001b[1;32m22\u001b[0m\n\u001b[1;33m    indice=indice+1\u001b[0m\n\u001b[1;37m    ^\u001b[0m\n\u001b[1;31mIndentationError\u001b[0m\u001b[1;31m:\u001b[0m expected an indented block\n"
     ]
    }
   ],
   "source": [
    "def jugar():\n",
    "    print (\"=======================\")\n",
    "    print(\"BIENVENIDO AL JUEGO DEL AHORCADO\")\n",
    "    print (\"=======================\")\n",
    "    palabra_secreta=\"mandarina \"\n",
    "    letras_acertadas(\"_\",\"_\",\"_\",\"_\",\"_\",\"_\",\"_\",\"_\",\"_\",\"_\",\"_\",\"_\")\n",
    "    ahorcado = False\n",
    "    acerto = False\n",
    "    print(letras_acertadas)\n",
    "    while (not ahorcado and not acerto):\n",
    "        \n",
    "        entrada =input(\"ingrese una letra :\")\n",
    "        entrada=entrada.strip()\n",
    "        entrada = entrada.lower()\n",
    "        indice=0\n",
    "        for letra in palabra_secreta:\n",
    "\n",
    "            if(entrada ==letra):\n",
    "                ##letras_acertadas[indice]==letra\n",
    "                \n",
    "                \n",
    "            indice=indice+1\n",
    "                \n",
    "        print(\"jugando...\")\n",
    "\n",
    "    print(\"fin del juego\")\n",
    "if(__name__==\"__main__\"):\n",
    "    jugar()     \n",
    "        "
   ]
  },
  {
   "cell_type": "code",
   "execution_count": 4,
   "metadata": {},
   "outputs": [
    {
     "data": {
      "text/plain": [
       "2"
      ]
     },
     "execution_count": 4,
     "metadata": {},
     "output_type": "execute_result"
    }
   ],
   "source": [
    "serie=range(0,10)\n",
    "serie[2]"
   ]
  },
  {
   "cell_type": "raw",
   "metadata": {},
   "source": [
    "serie [7]"
   ]
  },
  {
   "cell_type": "raw",
   "metadata": {},
   "source": [
    "serie [9]"
   ]
  },
  {
   "cell_type": "code",
   "execution_count": 15,
   "metadata": {},
   "outputs": [
    {
     "data": {
      "text/plain": [
       "['lunes', 'mastes', 'miercoles', 'jueves', 'viernes']"
      ]
     },
     "execution_count": 15,
     "metadata": {},
     "output_type": "execute_result"
    }
   ],
   "source": [
    "dias_laborables=[\"lunes\",\"mastes\",\"miercoles\",\"jueves\",\"viernes\"]\n",
    "dias_laborables"
   ]
  },
  {
   "cell_type": "code",
   "execution_count": 16,
   "metadata": {},
   "outputs": [
    {
     "data": {
      "text/plain": [
       "['lunes', 'mastes', 'miercoles', 'jueves', 'viernes', 'sabado']"
      ]
     },
     "execution_count": 16,
     "metadata": {},
     "output_type": "execute_result"
    }
   ],
   "source": [
    "dias_laborables.append(\"sabado\")\n",
    "dias_laborables"
   ]
  },
  {
   "cell_type": "code",
   "execution_count": 17,
   "metadata": {},
   "outputs": [
    {
     "data": {
      "text/plain": [
       "['lunes', 'mastes', 'miercoles', 'jueves', 'viernes']"
      ]
     },
     "execution_count": 17,
     "metadata": {},
     "output_type": "execute_result"
    }
   ],
   "source": [
    "dias_laborables.pop()\n",
    "dias_laborables"
   ]
  },
  {
   "cell_type": "markdown",
   "metadata": {},
   "source": [
    "## tuplas"
   ]
  },
  {
   "cell_type": "code",
   "execution_count": 21,
   "metadata": {},
   "outputs": [
    {
     "data": {
      "text/plain": [
       "tuple"
      ]
     },
     "execution_count": 21,
     "metadata": {},
     "output_type": "execute_result"
    }
   ],
   "source": [
    "dias =(\"lun\",'mart','mier',\"jue\",\"vie\",\"sab\",\"dom\")\n",
    "type(dias)"
   ]
  },
  {
   "cell_type": "code",
   "execution_count": 22,
   "metadata": {},
   "outputs": [
    {
     "data": {
      "text/plain": [
       "'mier'"
      ]
     },
     "execution_count": 22,
     "metadata": {},
     "output_type": "execute_result"
    }
   ],
   "source": [
    "dias[2]"
   ]
  },
  {
   "cell_type": "code",
   "execution_count": 23,
   "metadata": {},
   "outputs": [
    {
     "data": {
      "text/plain": [
       "'dom'"
      ]
     },
     "execution_count": 23,
     "metadata": {},
     "output_type": "execute_result"
    }
   ],
   "source": [
    "dias[6]"
   ]
  },
  {
   "cell_type": "code",
   "execution_count": 24,
   "metadata": {},
   "outputs": [
    {
     "data": {
      "text/plain": [
       "(5, 6)"
      ]
     },
     "execution_count": 24,
     "metadata": {},
     "output_type": "execute_result"
    }
   ],
   "source": [
    "punto=(5,6)\n",
    "punto"
   ]
  },
  {
   "cell_type": "code",
   "execution_count": 25,
   "metadata": {},
   "outputs": [
    {
     "data": {
      "text/plain": [
       "[(3, 5), (4, 6), (5, 7)]"
      ]
     },
     "execution_count": 25,
     "metadata": {},
     "output_type": "execute_result"
    }
   ],
   "source": [
    "punto =(3,5)\n",
    "p1=(3,5)\n",
    "p2=(4,6)\n",
    "p3=(5,7)\n",
    "linea =[p1,p2,p3]\n",
    "linea\n"
   ]
  },
  {
   "cell_type": "code",
   "execution_count": 26,
   "metadata": {},
   "outputs": [
    {
     "data": {
      "text/plain": [
       "[('Yami Moto', 40), ('Edivaldo', 37), ('Isidoro', 39)]"
      ]
     },
     "execution_count": 26,
     "metadata": {},
     "output_type": "execute_result"
    }
   ],
   "source": [
    "p1=(\"Yami Moto\",40)\n",
    "p2=(\"Edivaldo\",37)\n",
    "p3=(\"Isidoro\",39)\n",
    "profesores=[p1,p2,p3]\n",
    "profesores"
   ]
  },
  {
   "cell_type": "code",
   "execution_count": 27,
   "metadata": {},
   "outputs": [
    {
     "data": {
      "text/plain": [
       "('Edivaldo', 37)"
      ]
     },
     "execution_count": 27,
     "metadata": {},
     "output_type": "execute_result"
    }
   ],
   "source": [
    "profesores[1]"
   ]
  },
  {
   "cell_type": "markdown",
   "metadata": {},
   "source": [
    "\n",
    "## si queremos saber la edad asociada al elmento en la posicion 1..\n"
   ]
  },
  {
   "cell_type": "code",
   "execution_count": 29,
   "metadata": {},
   "outputs": [
    {
     "data": {
      "text/plain": [
       "'Yami Moto'"
      ]
     },
     "execution_count": 29,
     "metadata": {},
     "output_type": "execute_result"
    }
   ],
   "source": [
    "profesores[0][0]"
   ]
  },
  {
   "cell_type": "markdown",
   "metadata": {},
   "source": [
    "## convitimendo una lista en una tupla\n"
   ]
  },
  {
   "cell_type": "code",
   "execution_count": 33,
   "metadata": {},
   "outputs": [
    {
     "data": {
      "text/plain": [
       "['manzana']"
      ]
     },
     "execution_count": 33,
     "metadata": {},
     "output_type": "execute_result"
    }
   ],
   "source": [
    "palabra =[]\n",
    "palabra.append(\"manzana\")\n",
    "palabra"
   ]
  },
  {
   "cell_type": "code",
   "execution_count": 35,
   "metadata": {},
   "outputs": [
    {
     "data": {
      "text/plain": [
       "('manzana',)"
      ]
     },
     "execution_count": 35,
     "metadata": {},
     "output_type": "execute_result"
    }
   ],
   "source": [
    "nueva =tuple(palabra)\n",
    "nueva"
   ]
  },
  {
   "cell_type": "code",
   "execution_count": 36,
   "metadata": {},
   "outputs": [
    {
     "data": {
      "text/plain": [
       "['manzana']"
      ]
     },
     "execution_count": 36,
     "metadata": {},
     "output_type": "execute_result"
    }
   ],
   "source": [
    "otra =list(nueva)\n",
    "otra"
   ]
  },
  {
   "cell_type": "code",
   "execution_count": 37,
   "metadata": {},
   "outputs": [],
   "source": [
    "coleccion ={11111,3335.9994}"
   ]
  },
  {
   "cell_type": "code",
   "execution_count": 39,
   "metadata": {},
   "outputs": [],
   "source": [
    "coleccion.add(11111)\n"
   ]
  },
  {
   "cell_type": "code",
   "execution_count": 40,
   "metadata": {},
   "outputs": [
    {
     "name": "stdout",
     "output_type": "stream",
     "text": [
      "3335.9994\n",
      "11111\n"
     ]
    }
   ],
   "source": [
    "for elemento in coleccion:\n",
    "    print(elemento)"
   ]
  },
  {
   "cell_type": "markdown",
   "metadata": {},
   "source": [
    "## leyendo un archivo\n"
   ]
  },
  {
   "cell_type": "code",
   "execution_count": 16,
   "metadata": {},
   "outputs": [
    {
     "ename": "FileNotFoundError",
     "evalue": "[Errno 2] No such file or directory: 'palabra_secreta.txt'",
     "output_type": "error",
     "traceback": [
      "\u001b[1;31m---------------------------------------------------------------------------\u001b[0m",
      "\u001b[1;31mFileNotFoundError\u001b[0m                         Traceback (most recent call last)",
      "\u001b[1;32m~\\AppData\\Local\\Temp\\ipykernel_17488\\1577933377.py\u001b[0m in \u001b[0;36m<module>\u001b[1;34m\u001b[0m\n\u001b[1;32m----> 1\u001b[1;33m \u001b[0marchivo\u001b[0m \u001b[1;33m=\u001b[0m \u001b[0mopen\u001b[0m\u001b[1;33m(\u001b[0m\u001b[1;34m\"palabra_secreta.txt\"\u001b[0m\u001b[1;33m,\u001b[0m \u001b[1;34m\"r\"\u001b[0m\u001b[1;33m)\u001b[0m \u001b[1;31m#abrimos un archivo solo para lectura\u001b[0m\u001b[1;33m\u001b[0m\u001b[1;33m\u001b[0m\u001b[0m\n\u001b[0m",
      "\u001b[1;31mFileNotFoundError\u001b[0m: [Errno 2] No such file or directory: 'palabra_secreta.txt'"
     ]
    }
   ],
   "source": [
    "archivo = open(\"palabra.txt\", \"r\") #abrimos un archivo solo para lectura \n"
   ]
  },
  {
   "cell_type": "code",
   "execution_count": 13,
   "metadata": {},
   "outputs": [
    {
     "ename": "NameError",
     "evalue": "name 'archivo' is not defined",
     "output_type": "error",
     "traceback": [
      "\u001b[1;31m---------------------------------------------------------------------------\u001b[0m",
      "\u001b[1;31mNameError\u001b[0m                                 Traceback (most recent call last)",
      "\u001b[1;32m~\\AppData\\Local\\Temp\\ipykernel_17488\\278976959.py\u001b[0m in \u001b[0;36m<module>\u001b[1;34m\u001b[0m\n\u001b[1;32m----> 1\u001b[1;33m \u001b[0marchivo\u001b[0m\u001b[1;33m.\u001b[0m\u001b[0mwrite\u001b[0m\u001b[1;33m(\u001b[0m\u001b[1;34m\"chirimoya\"\u001b[0m\u001b[1;33m)\u001b[0m\u001b[1;33m\u001b[0m\u001b[1;33m\u001b[0m\u001b[0m\n\u001b[0m",
      "\u001b[1;31mNameError\u001b[0m: name 'archivo' is not defined"
     ]
    }
   ],
   "source": [
    "archivo.write(\"chirimoya\")"
   ]
  },
  {
   "cell_type": "code",
   "execution_count": 14,
   "metadata": {},
   "outputs": [
    {
     "ename": "NameError",
     "evalue": "name 'archivo' is not defined",
     "output_type": "error",
     "traceback": [
      "\u001b[1;31m---------------------------------------------------------------------------\u001b[0m",
      "\u001b[1;31mNameError\u001b[0m                                 Traceback (most recent call last)",
      "\u001b[1;32m~\\AppData\\Local\\Temp\\ipykernel_17488\\3631728412.py\u001b[0m in \u001b[0;36m<module>\u001b[1;34m\u001b[0m\n\u001b[1;32m----> 1\u001b[1;33m \u001b[0marchivo\u001b[0m\u001b[1;33m.\u001b[0m\u001b[0mread\u001b[0m\u001b[1;33m(\u001b[0m\u001b[1;33m)\u001b[0m\u001b[1;33m\u001b[0m\u001b[1;33m\u001b[0m\u001b[0m\n\u001b[0m",
      "\u001b[1;31mNameError\u001b[0m: name 'archivo' is not defined"
     ]
    }
   ],
   "source": [
    "archivo.read()"
   ]
  },
  {
   "cell_type": "code",
   "execution_count": 15,
   "metadata": {},
   "outputs": [],
   "source": [
    "## queremos leer linea por linea no todo el archivo"
   ]
  },
  {
   "cell_type": "markdown",
   "metadata": {},
   "source": [
    "## luego refectorizamos...\n"
   ]
  },
  {
   "cell_type": "code",
   "execution_count": null,
   "metadata": {},
   "outputs": [],
   "source": []
  },
  {
   "cell_type": "code",
   "execution_count": 23,
   "metadata": {},
   "outputs": [
    {
     "name": "stdout",
     "output_type": "stream",
     "text": [
      "================================\n",
      "Bienvenido al Juego del Ahorcado\n",
      "================================\n",
      "['_', '_', '_', '_', '_', '_', '_', '_']\n",
      "ingrese una letra...a\n",
      "['_', 'a', '_', '_', 'a', '_', '_', 'a']\n",
      "jugando...\n",
      "ingrese una letra...s\n",
      "['_', 'a', '_', '_', 'a', '_', '_', 'a']\n",
      "jugando...\n",
      "ingrese una letra...f\n",
      "['_', 'a', '_', '_', 'a', '_', '_', 'a']\n",
      "jugando...\n",
      "ingrese una letra...d\n",
      "['_', 'a', '_', 'd', 'a', '_', '_', 'a']\n",
      "jugando...\n",
      "ingrese una letra...f\n",
      "['_', 'a', '_', 'd', 'a', '_', '_', 'a']\n",
      "jugando...\n",
      "ingrese una letra...g\n",
      "['_', 'a', '_', 'd', 'a', '_', '_', 'a']\n",
      "jugando...\n",
      "ingrese una letra...h\n",
      "['_', 'a', '_', 'd', 'a', '_', '_', 'a']\n",
      "jugando...\n",
      "ingrese una letra...h\n",
      "['_', 'a', '_', 'd', 'a', '_', '_', 'a']\n",
      "jugando...\n",
      "ingrese una letra...h\n",
      "['_', 'a', '_', 'd', 'a', '_', '_', 'a']\n",
      "jugando...\n",
      "ingrese una letra...h\n",
      "['_', 'a', '_', 'd', 'a', '_', '_', 'a']\n",
      "jugando...\n",
      "ingrese una letra...h\n",
      "['_', 'a', '_', 'd', 'a', '_', '_', 'a']\n",
      "jugando...\n",
      "ingrese una letra...h\n",
      "['_', 'a', '_', 'd', 'a', '_', '_', 'a']\n",
      "jugando...\n"
     ]
    },
    {
     "ename": "KeyboardInterrupt",
     "evalue": "Interrupted by user",
     "output_type": "error",
     "traceback": [
      "\u001b[1;31m---------------------------------------------------------------------------\u001b[0m",
      "\u001b[1;31mKeyboardInterrupt\u001b[0m                         Traceback (most recent call last)",
      "\u001b[1;32m~\\AppData\\Local\\Temp\\ipykernel_16076\\3452469700.py\u001b[0m in \u001b[0;36m<module>\u001b[1;34m\u001b[0m\n\u001b[0;32m     44\u001b[0m \u001b[1;32mif\u001b[0m\u001b[1;33m(\u001b[0m\u001b[0m__name__\u001b[0m\u001b[1;33m==\u001b[0m \u001b[1;34m\"__main__\"\u001b[0m\u001b[1;33m)\u001b[0m\u001b[1;33m:\u001b[0m\u001b[1;33m\u001b[0m\u001b[1;33m\u001b[0m\u001b[0m\n\u001b[0;32m     45\u001b[0m \u001b[1;33m\u001b[0m\u001b[0m\n\u001b[1;32m---> 46\u001b[1;33m     \u001b[0mjugar\u001b[0m\u001b[1;33m(\u001b[0m\u001b[1;33m)\u001b[0m\u001b[1;33m\u001b[0m\u001b[1;33m\u001b[0m\u001b[0m\n\u001b[0m",
      "\u001b[1;32m~\\AppData\\Local\\Temp\\ipykernel_16076\\3452469700.py\u001b[0m in \u001b[0;36mjugar\u001b[1;34m()\u001b[0m\n\u001b[0;32m     28\u001b[0m     \u001b[0mprint\u001b[0m\u001b[1;33m(\u001b[0m\u001b[0mletras_acertadas\u001b[0m\u001b[1;33m)\u001b[0m\u001b[1;33m\u001b[0m\u001b[1;33m\u001b[0m\u001b[0m\n\u001b[0;32m     29\u001b[0m     \u001b[1;32mwhile\u001b[0m \u001b[1;33m(\u001b[0m \u001b[1;32mnot\u001b[0m \u001b[0mahorcado\u001b[0m \u001b[1;32mand\u001b[0m \u001b[1;32mnot\u001b[0m \u001b[0macerto\u001b[0m \u001b[1;33m)\u001b[0m\u001b[1;33m:\u001b[0m\u001b[1;33m\u001b[0m\u001b[1;33m\u001b[0m\u001b[0m\n\u001b[1;32m---> 30\u001b[1;33m         \u001b[0mentrada\u001b[0m\u001b[1;33m=\u001b[0m\u001b[0minput\u001b[0m \u001b[1;33m(\u001b[0m\u001b[1;34m\"ingrese una letra...\"\u001b[0m\u001b[1;33m)\u001b[0m\u001b[1;33m\u001b[0m\u001b[1;33m\u001b[0m\u001b[0m\n\u001b[0m\u001b[0;32m     31\u001b[0m         \u001b[0mentrada\u001b[0m\u001b[1;33m=\u001b[0m\u001b[0mentrada\u001b[0m\u001b[1;33m.\u001b[0m\u001b[0mstrip\u001b[0m\u001b[1;33m(\u001b[0m\u001b[1;33m)\u001b[0m\u001b[1;33m\u001b[0m\u001b[1;33m\u001b[0m\u001b[0m\n\u001b[0;32m     32\u001b[0m         \u001b[0mentrada\u001b[0m\u001b[1;33m=\u001b[0m\u001b[0mentrada\u001b[0m\u001b[1;33m.\u001b[0m\u001b[0mlower\u001b[0m\u001b[1;33m(\u001b[0m\u001b[1;33m)\u001b[0m\u001b[1;33m\u001b[0m\u001b[1;33m\u001b[0m\u001b[0m\n",
      "\u001b[1;32mC:\\ProgramData\\Anaconda3\\lib\\site-packages\\ipykernel\\kernelbase.py\u001b[0m in \u001b[0;36mraw_input\u001b[1;34m(self, prompt)\u001b[0m\n\u001b[0;32m   1175\u001b[0m                 \u001b[1;34m\"raw_input was called, but this frontend does not support input requests.\"\u001b[0m\u001b[1;33m\u001b[0m\u001b[1;33m\u001b[0m\u001b[0m\n\u001b[0;32m   1176\u001b[0m             )\n\u001b[1;32m-> 1177\u001b[1;33m         return self._input_request(\n\u001b[0m\u001b[0;32m   1178\u001b[0m             \u001b[0mstr\u001b[0m\u001b[1;33m(\u001b[0m\u001b[0mprompt\u001b[0m\u001b[1;33m)\u001b[0m\u001b[1;33m,\u001b[0m\u001b[1;33m\u001b[0m\u001b[1;33m\u001b[0m\u001b[0m\n\u001b[0;32m   1179\u001b[0m             \u001b[0mself\u001b[0m\u001b[1;33m.\u001b[0m\u001b[0m_parent_ident\u001b[0m\u001b[1;33m[\u001b[0m\u001b[1;34m\"shell\"\u001b[0m\u001b[1;33m]\u001b[0m\u001b[1;33m,\u001b[0m\u001b[1;33m\u001b[0m\u001b[1;33m\u001b[0m\u001b[0m\n",
      "\u001b[1;32mC:\\ProgramData\\Anaconda3\\lib\\site-packages\\ipykernel\\kernelbase.py\u001b[0m in \u001b[0;36m_input_request\u001b[1;34m(self, prompt, ident, parent, password)\u001b[0m\n\u001b[0;32m   1217\u001b[0m             \u001b[1;32mexcept\u001b[0m \u001b[0mKeyboardInterrupt\u001b[0m\u001b[1;33m:\u001b[0m\u001b[1;33m\u001b[0m\u001b[1;33m\u001b[0m\u001b[0m\n\u001b[0;32m   1218\u001b[0m                 \u001b[1;31m# re-raise KeyboardInterrupt, to truncate traceback\u001b[0m\u001b[1;33m\u001b[0m\u001b[1;33m\u001b[0m\u001b[0m\n\u001b[1;32m-> 1219\u001b[1;33m                 \u001b[1;32mraise\u001b[0m \u001b[0mKeyboardInterrupt\u001b[0m\u001b[1;33m(\u001b[0m\u001b[1;34m\"Interrupted by user\"\u001b[0m\u001b[1;33m)\u001b[0m \u001b[1;32mfrom\u001b[0m \u001b[1;32mNone\u001b[0m\u001b[1;33m\u001b[0m\u001b[1;33m\u001b[0m\u001b[0m\n\u001b[0m\u001b[0;32m   1220\u001b[0m             \u001b[1;32mexcept\u001b[0m \u001b[0mException\u001b[0m\u001b[1;33m:\u001b[0m\u001b[1;33m\u001b[0m\u001b[1;33m\u001b[0m\u001b[0m\n\u001b[0;32m   1221\u001b[0m                 \u001b[0mself\u001b[0m\u001b[1;33m.\u001b[0m\u001b[0mlog\u001b[0m\u001b[1;33m.\u001b[0m\u001b[0mwarning\u001b[0m\u001b[1;33m(\u001b[0m\u001b[1;34m\"Invalid Message:\"\u001b[0m\u001b[1;33m,\u001b[0m \u001b[0mexc_info\u001b[0m\u001b[1;33m=\u001b[0m\u001b[1;32mTrue\u001b[0m\u001b[1;33m)\u001b[0m\u001b[1;33m\u001b[0m\u001b[1;33m\u001b[0m\u001b[0m\n",
      "\u001b[1;31mKeyboardInterrupt\u001b[0m: Interrupted by user"
     ]
    }
   ],
   "source": [
    "import random\n",
    "\n",
    "def imprimir_mensaje_inicial():\n",
    "    print('================================')\n",
    "    print('Bienvenido al Juego del Ahorcado')\n",
    "    print('================================')\n",
    "\n",
    "def jugar():\n",
    "\n",
    "    imprimir_mensaje_inicial()\n",
    "       \n",
    "    archivo=open('palabras.txt','r')\n",
    "    palabras=[]\n",
    "    for linea in archivo:\n",
    "        linea=linea.strip()\n",
    "        palabras.append(linea)\n",
    "        \n",
    "        \n",
    "    archivo.close()\n",
    "    numero=random.randrange(0,len(palabras))\n",
    "    \n",
    "    palabra_secreta = palabras[numero].lower()\n",
    "    letras_acertadas =['_' for elemento in palabra_secreta]\n",
    "    \n",
    "    ahorcado = False\n",
    "    acerto = False\n",
    "    \n",
    "    print(letras_acertadas)\n",
    "    while ( not ahorcado and not acerto ):\n",
    "        entrada=input (\"ingrese una letra...\")\n",
    "        entrada=entrada.strip()\n",
    "        entrada=entrada.lower()\n",
    "        indice = 0\n",
    "        for letra in palabra_secreta:\n",
    "                if(entrada==letra):\n",
    "                    letras_acertadas[indice] = letra\n",
    "                \n",
    "                indice = indice + 1     \n",
    "        print(letras_acertadas)\n",
    "        print('jugando...')\n",
    "    print('fin del juego')\n",
    "     \n",
    "    \n",
    "if(__name__== \"__main__\"):\n",
    "\n",
    "    jugar()"
   ]
  },
  {
   "cell_type": "code",
   "execution_count": 12,
   "metadata": {},
   "outputs": [
    {
     "ename": "SyntaxError",
     "evalue": "invalid syntax (707728790.py, line 22)",
     "output_type": "error",
     "traceback": [
      "\u001b[1;36m  File \u001b[1;32m\"C:\\Users\\Control\\AppData\\Local\\Temp\\ipykernel_24300\\707728790.py\"\u001b[1;36m, line \u001b[1;32m22\u001b[0m\n\u001b[1;33m    porcentaje=100:\u001b[0m\n\u001b[1;37m                  ^\u001b[0m\n\u001b[1;31mSyntaxError\u001b[0m\u001b[1;31m:\u001b[0m invalid syntax\n"
     ]
    }
   ],
   "source": [
    "import random\n",
    "\n",
    "def imprimir_mensaje_inicial():\n",
    "    print('================================')\n",
    "    print('Bienvenido al Juego del Ahorcado')\n",
    "    print('================================')\n",
    "    \n",
    "def definir_palabra_secreta():\n",
    "    archivo=open('palabras.txt','r')\n",
    "    palabras=[]\n",
    "    for linea in archivo:\n",
    "        linea=linea.strip()\n",
    "        palabras.append(linea)\n",
    "        \n",
    "\n",
    "    \n",
    "    archivo.close()\n",
    "    numero=random.randrange(0,len(palabras))\n",
    "    palabra_secreta = palabras[numero].lower()\n",
    "    return palabra_secreta\n",
    "\n",
    "    porcentaje=100:\n",
    "    di=0:\n",
    "    palabras=palabras*100/100\n",
    "    div= palabras*100/len(  len('palabras.txt'))\n",
    "    \n",
    "def medir_largo_palabra(palabra_secreta):\n",
    "    return len(palabra_secreta)\n",
    "def inicializar_letras_acertadas(palabra_secreta):\n",
    "    return['_' for elemento in palabra_secreta]\n",
    "\n",
    "def leer_entrada():\n",
    "    entrada=input (\"ingrese una letra...\")\n",
    "    entrada=entrada.strip()\n",
    "    entrada=entrada.lower()\n",
    "    return entrada\n",
    "\n",
    "def marcar_entrada_correcta(entrada,palabra_secreta, letras_acertadas):\n",
    "    indice =0\n",
    "    for letra in palabra_secreta:\n",
    "        if(entrada==letra):\n",
    "            letras_acertadas[indice]= letra\n",
    "        indice = indice + 1\n",
    "\n",
    "\n",
    "def imprimir_mensaje_ganador():\n",
    "    print(\"\\n Felicitaciones, ganaste el juego!\")\n",
    "    print(\"       _____      \")\n",
    "    print(\"      '.=====.'     \")\n",
    "    print(\"      .-\\\\:      /-.    \")\n",
    "    print(\"     | (|:.     |) |    \")\n",
    "    print(\"      '-|:.     |-'     \")\n",
    "    print(\"        \\\\::.    /      \")\n",
    "    print(\"         '::. .'        \")\n",
    "    print(\"           ) (          \")\n",
    "    print(\"         .' '.        \")\n",
    "    print(\"        '-------'       \")      \n",
    "def imprimir_mensaje_perdedor(palabra_secreta):\n",
    "    print(\"\\n Lo siento, fuiste ahorcado!\")\n",
    "    print(\"La palabra era {}\".format(palabra_secreta))\n",
    "    print(\"    _____         \")\n",
    "    print(\"   /               \\       \")\n",
    "    print(\"  /                 \\      \")\n",
    "    print(\"//                   \\/\\  \")\n",
    "    print(\"\\|   XXXX     XXXX   | /   \")\n",
    "    print(\" |   XXXX     XXXX   |/     \")\n",
    "    print(\" |   XXX       XXX   |      \")\n",
    "    print(\" |                   |      \")\n",
    "    print(\" \\_      XXX      _/     \")\n",
    "    print(\"   |\\     XXX     /|       \")\n",
    "    print(\"   | |           | |        \")\n",
    "    print(\"   | I I I I I I I |        \")\n",
    "    print(\"   |  I I I I I I  |        \")\n",
    "    print(\"   \\_             _/       \")\n",
    "    print(\"     \\_         _/         \")\n",
    "    print(\"       \\___/           \")       \n",
    "         \n",
    "def dibujar_ahorcado(errores):\n",
    "    print(\"  ___     \")\n",
    "    print(\" |/      |    \")\n",
    "\n",
    "    if(errores == 1):\n",
    "        print(\" |      (_)   \")\n",
    "        print(\" |            \")\n",
    "        print(\" |            \")\n",
    "        print(\" |            \")\n",
    "\n",
    "    if(errores == 2):\n",
    "        print(\" |      (_)   \")\n",
    "        print(\" |      \\     \")\n",
    "        print(\" |            \")\n",
    "        print(\" |            \")\n",
    "\n",
    "    if(errores == 3):\n",
    "        print(\" |      (_)   \")\n",
    "        print(\" |      \\|    \")\n",
    "        print(\" |            \")\n",
    "        print(\" |            \")\n",
    "\n",
    "    if(errores == 4):\n",
    "        print(\" |      (_)   \")\n",
    "        print(\" |      \\|/   \")\n",
    "        print(\" |            \")\n",
    "        print(\" |            \")\n",
    "\n",
    "    if(errores == 5):\n",
    "        print(\" |      (_)   \")\n",
    "        print(\" |      \\|/   \")\n",
    "        print(\" |       |    \")\n",
    "        print(\" |            \")\n",
    "\n",
    "    if(errores == 6):\n",
    "        print(\" |      (_)   \")\n",
    "        print(\" |      \\|/   \")\n",
    "        print(\" |       |    \")\n",
    "        print(\" |      /     \")\n",
    "\n",
    "    if (errores == 7):\n",
    "        print(\" |      (_)   \")\n",
    "        print(\" |      \\|/   \")\n",
    "        print(\" |       |    \")\n",
    "        print(\" |      / \\   \")\n",
    "\n",
    "    print(\" |            \")\n",
    "    print(\"|__         \")\n",
    "    print(\"         __|\")\n",
    "def jugar():\n",
    "\n",
    "    imprimir_mensaje_inicial()\n",
    "    \n",
    "    palabra_secreta = definir_palabra_secreta()\n",
    "    \n",
    "    letras_acertadas = inicializar_letras_acertadas(palabra_secreta)\n",
    "    \n",
    "    ahorcado = False\n",
    "    acerto = False\n",
    "    errores = 0 #contador de errores\n",
    "    \n",
    "    print(letras_acertadas)\n",
    "    while ( not ahorcado and not acerto ):\n",
    "        \n",
    "        entrada = leer_entrada()\n",
    "        \n",
    "        if entrada in palabra_secreta:\n",
    "        \n",
    "            marcar_entrada_correcta(entrada,palabra_secreta, letras_acertadas)\n",
    "        else:\n",
    "            errores +=1\n",
    "            dibujar_ahorcado(errores)\n",
    "        ahorcado = errores== medir_largo_palabra(palabra_secreta)\n",
    "        acerto=\"_\"not in letras_acertadas\n",
    "        print(letras_acertadas)\n",
    "    if(acerto):\n",
    "        imprimir_mensaje_ganador()\n",
    "\n",
    "    else:\n",
    "        imprimir_mensaje_perdedor(palabra_secreta)\n",
    "        \n",
    "    print(\"Fin del Juego\")\n",
    "     \n",
    "\n",
    "if(__name__== \"__main__\"):\n",
    "\n",
    "    jugar()"
   ]
  },
  {
   "cell_type": "code",
   "execution_count": 10,
   "metadata": {},
   "outputs": [
    {
     "name": "stdout",
     "output_type": "stream",
     "text": [
      "================================\n",
      "Bienvenido al Juego del Ahorcado\n",
      "================================\n",
      "['_', '_', '_', '_', '_', '_', '_', '_', '_']\n",
      "Ingrese una letra...\n",
      "  ___     \n",
      " |/      |    \n",
      " |      (_)   \n",
      " |            \n",
      " |            \n",
      " |            \n",
      " |            \n",
      "Letras adivinadas: _ _ _ _ _ _ _ _ _\n",
      "\n",
      "Lo siento, fuiste ahorcado!\n",
      "La palabra era mandarina\n",
      "    _____         \n",
      "   /               \\       \n",
      "  /                 \\      \n",
      "//                   \\/\\  \n",
      "\\|   XXXX     XXXX   | /   \n",
      " |   XXXX     XXXX   |/     \n",
      " |   XXX       XXX   |      \n",
      " |                   |      \n",
      " \\_      XXX      _/     \n",
      "   |\\     XXX     /|       \n",
      "   | |           | |        \n",
      "   | I I I I I I I |        \n",
      "   |  I I I I I I  |        \n",
      "   \\_             _/       \n",
      "     \\_         _/         \n",
      "       \\___/           \n",
      "Fin del Juego\n"
     ]
    }
   ],
   "source": [
    "import random\n",
    "\n",
    "def imprimir_mensaje_inicial():\n",
    "    print('================================')\n",
    "    print('Bienvenido al Juego del Ahorcado')\n",
    "    print('================================')\n",
    "\n",
    "def definir_palabra_secreta():\n",
    "    archivo = open('palabras.txt', 'r')\n",
    "    palabra = []\n",
    "    for linea in archivo:\n",
    "        linea = linea.strip()\n",
    "        palabra.append(linea)\n",
    "\n",
    "    archivo.close()\n",
    "    numero = random.randrange(0, len(palabra))\n",
    "    palabra_secreta = palabra[numero].lower()\n",
    "    return palabra_secreta\n",
    "\n",
    "def inicializar_letras_acertadas(palabra_secreta):\n",
    "    return ['_' for elemento in palabra_secreta]\n",
    "\n",
    "def leer_entrada():\n",
    "    entrada = input(\"Ingrese una letra...\")\n",
    "    entrada = entrada.strip()\n",
    "    entrada = entrada.lower()\n",
    "    return entrada\n",
    "\n",
    "def medir_largo_palabra(palabra_secreta):\n",
    "    return len(palabra_secreta)\n",
    "\n",
    "def marcar_entrada_correcta(entrada, palabra_secreta, letras_acertadas):\n",
    "    acierto = False\n",
    "    for i, letra in enumerate(palabra_secreta):\n",
    "        if entrada == letra:\n",
    "            letras_acertadas[i] = letra\n",
    "            acierto = True\n",
    "    return acierto\n",
    "\n",
    "def imprimir_mensaje_ganador():\n",
    "    print(\"\\n¡Felicitaciones, ganaste el juego!\")\n",
    "    print(\"       _____      \")\n",
    "    print(\"      '.=====.'     \")\n",
    "    print(\"      .-\\\\:      /-.    \")\n",
    "    print(\"     | (|:.     |) |    \")\n",
    "    print(\"      '-|:.     |-'     \")\n",
    "    print(\"        \\\\::.    /      \")\n",
    "    print(\"         '::. .'        \")\n",
    "    print(\"           ) (          \")\n",
    "    print(\"         .' '.        \")\n",
    "    print(\"        '-------'       \")        \n",
    "\n",
    "def imprimir_mensaje_perdedor(palabra_secreta):\n",
    "    print(\"\\nLo siento, fuiste ahorcado!\")\n",
    "    print(\"La palabra era {}\".format(palabra_secreta))\n",
    "    print(\"    _____         \")\n",
    "    print(\"   /               \\       \")\n",
    "    print(\"  /                 \\      \")\n",
    "    print(\"//                   \\/\\  \")\n",
    "    print(\"\\|   XXXX     XXXX   | /   \")\n",
    "    print(\" |   XXXX     XXXX   |/     \")\n",
    "    print(\" |   XXX       XXX   |      \")\n",
    "    print(\" |                   |      \")\n",
    "    print(\" \\_      XXX      _/     \")\n",
    "    print(\"   |\\     XXX     /|       \")\n",
    "    print(\"   | |           | |        \")\n",
    "    print(\"   | I I I I I I I |        \")\n",
    "    print(\"   |  I I I I I I  |        \")\n",
    "    print(\"   \\_             _/       \")\n",
    "    print(\"     \\_         _/         \")\n",
    "    print(\"       \\___/           \")       \n",
    "\n",
    "def dibujar_ahorcado(errores):\n",
    "    if errores == 1:\n",
    "        print(\"  ___     \")\n",
    "        print(\" |/      |    \")\n",
    "        print(\" |      (_)   \")\n",
    "        print(\" |            \")\n",
    "        print(\" |            \")\n",
    "        print(\" |            \")\n",
    "        print(\" |            \")\n",
    "    elif errores == 2:\n",
    "        print(\"  ___     \")\n",
    "        print(\" |/      |    \")\n",
    "        print(\" |      (_)   \")\n",
    "        print(\" |      \\\\    \")\n",
    "        print(\" |            \")\n",
    "        print(\" |            \")\n",
    "        print(\" |            \")\n",
    "    elif errores == 3:\n",
    "        print(\"  ___     \")\n",
    "        print(\" |/      |    \")\n",
    "        print(\" |      (_)   \")\n",
    "        print(\" |      \\\\|    \")\n",
    "        print(\" |            \")\n",
    "        print(\" |            \")\n",
    "        print(\" |            \")\n",
    "    elif errores == 4:\n",
    "        print(\"  ___     \")\n",
    "        print(\" |/      |    \")\n",
    "        print(\" |      (_)   \")\n",
    "        print(\" |      \\\\|/   \")\n",
    "        print(\" |            \")\n",
    "        print(\" |            \")\n",
    "        print(\" |            \")\n",
    "    elif errores == 5:\n",
    "        print(\"  ___     \")\n",
    "        print(\" |/      |    \")\n",
    "        print(\" |      (_)   \")\n",
    "        print(\" |      \\\\|/   \")\n",
    "        print(\" |       |    \")\n",
    "        print(\" |            \")\n",
    "        print(\" |            \")\n",
    "    elif errores == 6:\n",
    "        print(\"  ___     \")\n",
    "        print(\" |/      |    \")\n",
    "        print(\" |      (_)   \")\n",
    "        print(\" |      \\\\|/   \")\n",
    "        print(\" |       |    \")\n",
    "        print(\" |      /     \")\n",
    "        print(\" |            \")\n",
    "    elif errores == 7:\n",
    "        print(\"  ___     \")\n",
    "        print(\" |/      |    \")\n",
    "        print(\" |      (_)   \")\n",
    "        print(\" |      \\\\|/   \")\n",
    "        print(\" |       |    \")\n",
    "        print(\" |      / \\\\  \")\n",
    "        print(\" |            \")\n",
    "    else:\n",
    "        print(\"  ___     \")\n",
    "        print(\" |/      |    \")\n",
    "        print(\" |            \")\n",
    "        print(\" |            \")\n",
    "        print(\" |            \")\n",
    "        print(\" |            \")\n",
    "        print(\" |            \")\n",
    "\n",
    "def jugar():\n",
    "    imprimir_mensaje_inicial()\n",
    "    palabra_secreta = definir_palabra_secreta()\n",
    "    letras_acertadas = inicializar_letras_acertadas(palabra_secreta)\n",
    "\n",
    "    ahorcado = False\n",
    "    acerto = False\n",
    "    errores = 0  # contador de errores\n",
    "\n",
    "    print(letras_acertadas)\n",
    "    while (not ahorcado and not acerto):\n",
    "        entrada = leer_entrada()\n",
    "        if marcar_entrada_correcta(entrada, palabra_secreta, letras_acertadas):\n",
    "            acerto = \"_\" not in letras_acertadas\n",
    "        else:\n",
    "            errores += 1\n",
    "            if errores >= errores:\n",
    "                ahorcado = True\n",
    "            dibujar_ahorcado(errores)\n",
    "\n",
    "        print(\"Letras adivinadas: \" + \" \".join(letras_acertadas))\n",
    "    \n",
    "    if acerto:\n",
    "        imprimir_mensaje_ganador()\n",
    "    else:\n",
    "        imprimir_mensaje_perdedor(palabra_secreta)\n",
    "\n",
    "    print(\"Fin del Juego\")\n",
    "\n",
    "if(__name__== \"__main__\"):\n",
    "\n",
    "    jugar()"
   ]
  },
  {
   "cell_type": "code",
   "execution_count": 62,
   "metadata": {},
   "outputs": [
    {
     "name": "stdout",
     "output_type": "stream",
     "text": [
      "================================\n",
      "Bienvenido al Juego del Ahorcado\n",
      "================================\n",
      "[1, 0, 1, 1, 1, 1, 1, 1]\n",
      "['_', '_', '_', '_', '_', '_', '_', '_']\n",
      "ingrese una letra...l\n",
      "  ___     \n",
      " |/      |    \n",
      " |      (_)   \n",
      " |            \n",
      " |            \n",
      " |            \n",
      " |            \n",
      "|__         \n",
      "['_', '_', '_', '_', '_', '_', '_', '_']\n",
      "ingrese una letra...v\n",
      "  ___     \n",
      " |/      |    \n",
      " |      (_)   \n",
      " |      \\     \n",
      " |            \n",
      " |            \n",
      " |            \n",
      "|__         \n",
      "['_', '_', '_', '_', '_', '_', '_', '_']\n",
      "ingrese una letra...ñ\n",
      "  ___     \n",
      " |/      |    \n",
      " |      (_)   \n",
      " |      \\|    \n",
      " |            \n",
      " |            \n",
      " |            \n",
      "|__         \n",
      "['_', '_', '_', '_', '_', '_', '_', '_']\n",
      "ingrese una letra...y\n",
      "['_', '_', '_', '_', '_', '_', 'y', '_']\n",
      "ingrese una letra...y\n",
      "['_', '_', '_', '_', '_', '_', 'y', '_']\n",
      "ingrese una letra...g\n",
      "  ___     \n",
      " |/      |    \n",
      " |      (_)   \n",
      " |      \\|/   \n",
      " |            \n",
      " |            \n",
      " |            \n",
      "|__         \n",
      "['_', '_', '_', '_', '_', '_', 'y', '_']\n",
      "ingrese una letra...g\n",
      "  ___     \n",
      " |/      |    \n",
      " |      (_)   \n",
      " |      \\|/   \n",
      " |       |    \n",
      " |            \n",
      " |            \n",
      "|__         \n",
      "['_', '_', '_', '_', '_', '_', 'y', '_']\n",
      "ingrese una letra...g\n",
      "  ___     \n",
      " |/      |    \n",
      " |      (_)   \n",
      " |      \\|/   \n",
      " |       |    \n",
      " |      /     \n",
      " |            \n",
      "|__         \n",
      "['_', '_', '_', '_', '_', '_', 'y', '_']\n",
      "ingrese una letra...h\n",
      "  ___     \n",
      " |/      |    \n",
      " |      (_)   \n",
      " |      \\|/   \n",
      " |       |    \n",
      " |      / \\   \n",
      " |            \n",
      "|__         \n",
      "['_', '_', '_', '_', '_', '_', 'y', '_']\n",
      "ingrese una letra...u\n",
      "['_', '_', '_', '_', '_', 'u', 'y', '_']\n",
      "ingrese una letra...u\n",
      "['_', '_', '_', '_', '_', 'u', 'y', '_']\n",
      "ingrese una letra...u\n",
      "['_', '_', '_', '_', '_', 'u', 'y', '_']\n",
      "ingrese una letra...u\n",
      "['_', '_', '_', '_', '_', 'u', 'y', '_']\n",
      "ingrese una letra...o\n",
      "  ___     \n",
      " |/      |    \n",
      " |            \n",
      "|__         \n",
      "['_', '_', '_', '_', '_', 'u', 'y', '_']\n",
      "\n",
      " Lo siento, fuiste ahorcado!\n",
      "La palabra era maracuya\n",
      "    _____         \n",
      "   /               \\       \n",
      "  /                 \\      \n",
      "//                   \\/\\  \n",
      "\\|   XXXX     XXXX   | /   \n",
      " |   XXXX     XXXX   |/     \n",
      " |   XXX       XXX   |      \n",
      " |                   |      \n",
      " \\_      XXX      _/     \n",
      "   |\\     XXX     /|       \n",
      "   | |           | |        \n",
      "   | I I I I I I I |        \n",
      "   |  I I I I I I  |        \n",
      "   \\_             _/       \n",
      "     \\_         _/         \n",
      "       \\___/           \n",
      "Fin del Juego\n"
     ]
    }
   ],
   "source": [
    "import random\n",
    "\n",
    "\n",
    "def imprimir_mensaje_inicial():\n",
    "    print('================================')\n",
    "    print('Bienvenido al Juego del Ahorcado')\n",
    "    print('================================')\n",
    "\n",
    "def definir_palabra_secreta():\n",
    "    archivo=open('palabras.txt','r')\n",
    "    palabra=[]\n",
    "    for linea in archivo:\n",
    "        linea=linea.strip()\n",
    "        palabra.append(linea)\n",
    "\n",
    "    archivo.close()\n",
    "    numero=random.randrange(0,len(palabra))\n",
    "    palabra_secreta = palabra[numero].lower()\n",
    "    palabra_secreta =\"maracuya\"\n",
    "    return palabra_secreta\n",
    "\n",
    "def inicializar_letras_acertadas(palabra_secreta):\n",
    "    return ['_' for elemento in palabra_secreta]\n",
    "\n",
    "def leer_entrada():\n",
    "    entrada=input (\"ingrese una letra...\")\n",
    "    entrada=entrada.strip()\n",
    "    entrada=entrada.lower()\n",
    "    return entrada\n",
    "\n",
    "def medir_largo_palabra(palabra_secreta):\n",
    "    return len(palabra_secreta)\n",
    "\n",
    "def marcar_entrada_correcta(entrada,palabra_secreta,letras_acertadas):\n",
    "    indice = 0\n",
    "    for letra in palabra_secreta:\n",
    "        if(entrada==letra):\n",
    "            letras_acertadas[indice] = letra\n",
    "        indice = indice + 1 \n",
    "        \n",
    "def imprimir_mensaje_ganador():\n",
    "    print(\"\\n Felicitaciones, ganaste el juego!\")\n",
    "    print(\"       _____      \")\n",
    "    print(\"      '.=====.'     \")\n",
    "    print(\"      .-\\\\:      /-.    \")\n",
    "    print(\"     | (|:.     |) |    \")\n",
    "    print(\"      '-|:.     |-'     \")\n",
    "    print(\"        \\\\::.    /      \")\n",
    "    print(\"         '::. .'        \")\n",
    "    print(\"           ) (          \")\n",
    "    print(\"         .' '.        \")\n",
    "    print(\"        '-------'       \")        \n",
    "       \n",
    "    \n",
    "def imprimir_mensaje_perdedor(palabra_secreta):\n",
    "    print(\"\\n Lo siento, fuiste ahorcado!\")\n",
    "    print(\"La palabra era {}\".format(palabra_secreta))\n",
    "    print(\"    _____         \")\n",
    "    print(\"   /               \\       \")\n",
    "    print(\"  /                 \\      \")\n",
    "    print(\"//                   \\/\\  \")\n",
    "    print(\"\\|   XXXX     XXXX   | /   \")\n",
    "    print(\" |   XXXX     XXXX   |/     \")\n",
    "    print(\" |   XXX       XXX   |      \")\n",
    "    print(\" |                   |      \")\n",
    "    print(\" \\_      XXX      _/     \")\n",
    "    print(\"   |\\     XXX     /|       \")\n",
    "    print(\"   | |           | |        \")\n",
    "    print(\"   | I I I I I I I |        \")\n",
    "    print(\"   |  I I I I I I  |        \")\n",
    "    print(\"   \\_             _/       \")\n",
    "    print(\"     \\_         _/         \")\n",
    "    print(\"       \\___/           \")       \n",
    "    \n",
    "    \n",
    "def dibujar_ahorcado(errores):\n",
    "    print(\"  ___     \")\n",
    "    print(\" |/      |    \")\n",
    "\n",
    "    if(errores == 1):\n",
    "        print(\" |      (_)   \")\n",
    "        print(\" |            \")\n",
    "        print(\" |            \")\n",
    "        print(\" |            \")\n",
    "\n",
    "    if(errores == 2):\n",
    "        print(\" |      (_)   \")\n",
    "        print(\" |      \\     \")\n",
    "        print(\" |            \")\n",
    "        print(\" |            \")\n",
    "\n",
    "    if(errores == 3):\n",
    "        print(\" |      (_)   \")\n",
    "        print(\" |      \\|    \")\n",
    "        print(\" |            \")\n",
    "        print(\" |            \")\n",
    "\n",
    "    if(errores == 4):\n",
    "        print(\" |      (_)   \")\n",
    "        print(\" |      \\|/   \")\n",
    "        print(\" |            \")\n",
    "        print(\" |            \")\n",
    "\n",
    "    if(errores == 5):\n",
    "        print(\" |      (_)   \")\n",
    "        print(\" |      \\|/   \")\n",
    "        print(\" |       |    \")\n",
    "        print(\" |            \")\n",
    "\n",
    "    if(errores == 6):\n",
    "        print(\" |      (_)   \")\n",
    "        print(\" |      \\|/   \")\n",
    "        print(\" |       |    \")\n",
    "        print(\" |      /     \")\n",
    "\n",
    "    if (errores == 7):\n",
    "        print(\" |      (_)   \")\n",
    "        print(\" |      \\|/   \")\n",
    "        print(\" |       |    \")\n",
    "        print(\" |      / \\   \")\n",
    "\n",
    "    print(\" |            \")\n",
    "    print(\"|__         \")\n",
    "\n",
    "    \n",
    "def calcular_iteraciones_dibujo(largo_palabra, pasos_dibujo):\n",
    "    # rellenar pasos_dibujo copn unos\n",
    "    for i in range(largo_palabra):\n",
    "        pasos_dibujo.append(1) #agregamos un 1 a la list\n",
    "    sumar_pasos= sum(pasos_dibujo)## sumamos el conteniado de la list\n",
    "\n",
    "    while(sumar_pasos< 7 and largo_palabra<7):##cuando la palabra tiene menor que 7 letras \n",
    "     ## ciclo para recorrer pasos_dibujo\n",
    "         for i in range(largo_palabra):\n",
    "                pasos_dibujo[i]=pasos_dibujo[i]+1\n",
    "                sumar_pasos=sum(pasos_dibujo)## sumamos el contenido de la list\n",
    "                if(sumar_pasos==7):\n",
    "                    break\n",
    "\n",
    "    while(sumar_pasos> 7 and largo_palabra>7):##cuando la palabra tiene menor que 7 letras \n",
    "         for i in range(largo_palabra):\n",
    "            if i % 2  != 0:\n",
    "                pasos_dibujo[i]=0\n",
    "                sumar_pasos=sum(pasos_dibujo)## sumamos el contenido de la list\n",
    "                if(sumar_pasos==7):\n",
    "                    break\n",
    "                    \n",
    "    return pasos_dibujo # sumar_pasos #pasos_dibujo\n",
    "\n",
    "def jugar ():\n",
    "    imprimir_mensaje_inicial()\n",
    "    palabra_secreta=definir_palabra_secreta()\n",
    "    letras_acertadas=inicializar_letras_acertadas(palabra_secreta)\n",
    "    \n",
    "    ahorcado = False\n",
    "    acerto = False\n",
    "    errores=0   # contador de errorres\n",
    "    pasos_dibujo= [] \n",
    "    pasos_dibujo= calcular_iteraciones_dibujo(len(palabra_secreta),pasos_dibujo)\n",
    "    print(pasos_dibujo)\n",
    "    \n",
    "    \n",
    "    \n",
    "    print(letras_acertadas)\n",
    "    while ( not ahorcado and not acerto ):\n",
    "        entrada=leer_entrada()\n",
    "        if entrada in palabra_secreta:\n",
    "            marcar_entrada_correcta(entrada,palabra_secreta,letras_acertadas)  \n",
    "        else:\n",
    "            errores += 1\n",
    "            dibujar_ahorcado(errores)\n",
    "        ahorcado=errores== medir_largo_palabra(palabra_secreta) #largo de la palabra\n",
    "        acerto= \"_\" not in letras_acertadas\n",
    "        print(letras_acertadas)       \n",
    "    if(acerto):\n",
    "        imprimir_mensaje_ganador()\n",
    "    else:\n",
    "        imprimir_mensaje_perdedor(palabra_secreta)\n",
    "    print(\"Fin del Juego\")\n",
    "    \n",
    "if(__name__== \"__main__\"):\n",
    "\n",
    "    jugar()"
   ]
  },
  {
   "cell_type": "code",
   "execution_count": 59,
   "metadata": {},
   "outputs": [
    {
     "name": "stdout",
     "output_type": "stream",
     "text": [
      " |            \n",
      "|__         \n",
      "================================\n",
      "Bienvenido al Juego del Ahorcado\n",
      "================================\n",
      "[1, 0, 1, 1, 1, 1, 1, 1]\n",
      "['_', '_', '_', '_', '_', '_', '_', '_']\n",
      "ingrese una letra...m\n",
      "['m', '_', '_', '_', '_', '_', '_', '_']\n",
      "ingrese una letra...a\n",
      "['m', 'a', '_', 'a', '_', '_', '_', 'a']\n",
      "ingrese una letra...d\n"
     ]
    },
    {
     "ename": "TypeError",
     "evalue": "dibujar_ahorcado() takes 1 positional argument but 2 were given",
     "output_type": "error",
     "traceback": [
      "\u001b[1;31m---------------------------------------------------------------------------\u001b[0m",
      "\u001b[1;31mTypeError\u001b[0m                                 Traceback (most recent call last)",
      "\u001b[1;32m~\\AppData\\Local\\Temp\\ipykernel_24300\\3005741255.py\u001b[0m in \u001b[0;36m<module>\u001b[1;34m\u001b[0m\n\u001b[0;32m    240\u001b[0m \u001b[1;32mif\u001b[0m\u001b[1;33m(\u001b[0m\u001b[0m__name__\u001b[0m\u001b[1;33m==\u001b[0m \u001b[1;34m\"__main__\"\u001b[0m\u001b[1;33m)\u001b[0m\u001b[1;33m:\u001b[0m\u001b[1;33m\u001b[0m\u001b[1;33m\u001b[0m\u001b[0m\n\u001b[0;32m    241\u001b[0m \u001b[1;33m\u001b[0m\u001b[0m\n\u001b[1;32m--> 242\u001b[1;33m     \u001b[0mjugar\u001b[0m\u001b[1;33m(\u001b[0m\u001b[1;33m)\u001b[0m\u001b[1;33m\u001b[0m\u001b[1;33m\u001b[0m\u001b[0m\n\u001b[0m",
      "\u001b[1;32m~\\AppData\\Local\\Temp\\ipykernel_24300\\3005741255.py\u001b[0m in \u001b[0;36mjugar\u001b[1;34m()\u001b[0m\n\u001b[0;32m    227\u001b[0m         \u001b[1;32melse\u001b[0m\u001b[1;33m:\u001b[0m\u001b[1;33m\u001b[0m\u001b[1;33m\u001b[0m\u001b[0m\n\u001b[0;32m    228\u001b[0m             \u001b[0merrores\u001b[0m \u001b[1;33m+=\u001b[0m \u001b[1;36m1\u001b[0m\u001b[1;33m\u001b[0m\u001b[1;33m\u001b[0m\u001b[0m\n\u001b[1;32m--> 229\u001b[1;33m             \u001b[0mdibujar_ahorcado\u001b[0m\u001b[1;33m(\u001b[0m\u001b[0merrores\u001b[0m\u001b[1;33m,\u001b[0m \u001b[0mpasos_dibujo\u001b[0m\u001b[1;33m)\u001b[0m\u001b[1;33m\u001b[0m\u001b[1;33m\u001b[0m\u001b[0m\n\u001b[0m\u001b[0;32m    230\u001b[0m \u001b[1;33m\u001b[0m\u001b[0m\n\u001b[0;32m    231\u001b[0m         \u001b[0mahorcado\u001b[0m\u001b[1;33m=\u001b[0m\u001b[0merrores\u001b[0m\u001b[1;33m==\u001b[0m \u001b[0mmedir_largo_palabra\u001b[0m\u001b[1;33m(\u001b[0m\u001b[0mpalabra_secreta\u001b[0m\u001b[1;33m)\u001b[0m \u001b[1;31m#largo de la palabra\u001b[0m\u001b[1;33m\u001b[0m\u001b[1;33m\u001b[0m\u001b[0m\n",
      "\u001b[1;31mTypeError\u001b[0m: dibujar_ahorcado() takes 1 positional argument but 2 were given"
     ]
    }
   ],
   "source": [
    "import random\n",
    "\n",
    "\n",
    "def imprimir_mensaje_inicial():\n",
    "    print('================================')\n",
    "    print('Bienvenido al Juego del Ahorcado')\n",
    "    print('================================')\n",
    "\n",
    "def definir_palabra_secreta():\n",
    "    archivo=open('palabras.txt','r')\n",
    "    palabra=[]\n",
    "    for linea in archivo:\n",
    "        linea=linea.strip()\n",
    "        palabra.append(linea)\n",
    "\n",
    "    archivo.close()\n",
    "    numero=random.randrange(0,len(palabra))\n",
    "    palabra_secreta = palabra[numero].lower()\n",
    "    palabra_secreta =\"maracuya\"\n",
    "    return palabra_secreta\n",
    "\n",
    "def inicializar_letras_acertadas(palabra_secreta):\n",
    "    return ['_' for elemento in palabra_secreta]\n",
    "\n",
    "def leer_entrada():\n",
    "    entrada=input (\"ingrese una letra...\")\n",
    "    entrada=entrada.strip()\n",
    "    entrada=entrada.lower()\n",
    "    return entrada\n",
    "\n",
    "def medir_largo_palabra(palabra_secreta):\n",
    "    return len(palabra_secreta)\n",
    "\n",
    "def marcar_entrada_correcta(entrada,palabra_secreta,letras_acertadas):\n",
    "    indice = 0\n",
    "    for letra in palabra_secreta:\n",
    "        if(entrada==letra):\n",
    "            letras_acertadas[indice] = letra\n",
    "        indice = indice + 1 \n",
    "        \n",
    "def imprimir_mensaje_ganador():\n",
    "    print(\"\\n Felicitaciones, ganaste el juego!\")\n",
    "    print(\"       _____      \")\n",
    "    print(\"      '.=====.'     \")\n",
    "    print(\"      .-\\\\:      /-.    \")\n",
    "    print(\"     | (|:.     |) |    \")\n",
    "    print(\"      '-|:.     |-'     \")\n",
    "    print(\"        \\\\::.    /      \")\n",
    "    print(\"         '::. .'        \")\n",
    "    print(\"           ) (          \")\n",
    "    print(\"         .' '.        \")\n",
    "    print(\"        '-------'       \")        \n",
    "       \n",
    "    \n",
    "def imprimir_mensaje_perdedor(palabra_secreta):\n",
    "    print(\"\\n Lo siento, fuiste ahorcado!\")\n",
    "    print(\"La palabra era {}\".format(palabra_secreta))\n",
    "    print(\"    _____         \")\n",
    "    print(\"   /               \\       \")\n",
    "    print(\"  /                 \\      \")\n",
    "    print(\"//                   \\/\\  \")\n",
    "    print(\"\\|   XXXX     XXXX   | /   \")\n",
    "    print(\" |   XXXX     XXXX   |/     \")\n",
    "    print(\" |   XXX       XXX   |      \")\n",
    "    print(\" |                   |      \")\n",
    "    print(\" \\_      XXX      _/     \")\n",
    "    print(\"   |\\     XXX     /|       \")\n",
    "    print(\"   | |           | |        \")\n",
    "    print(\"   | I I I I I I I |        \")\n",
    "    print(\"   |  I I I I I I  |        \")\n",
    "    print(\"   \\_             _/       \")\n",
    "    print(\"     \\_         _/         \")\n",
    "    print(\"       \\___/           \")       \n",
    "    \n",
    "    \n",
    "def dibujar_ahorcado(errores):\n",
    "    print(\"  ___     \")\n",
    "    print(\" |/      |    \")\n",
    "\n",
    "    if(errores == 1):\n",
    "        print(\" |      (_)   \")\n",
    "        print(\" |            \")\n",
    "        print(\" |            \")\n",
    "        print(\" |            \")\n",
    "\n",
    "    if(errores == 2):\n",
    "        print(\" |      (_)   \")\n",
    "        print(\" |      \\     \")\n",
    "        print(\" |            \")\n",
    "        print(\" |            \")\n",
    "\n",
    "    if(errores == 3):\n",
    "        print(\" |      (_)   \")\n",
    "        print(\" |      \\|    \")\n",
    "        print(\" |            \")\n",
    "        print(\" |            \")\n",
    "\n",
    "    if(errores == 4):\n",
    "        print(\" |      (_)   \")\n",
    "        print(\" |      \\|/   \")\n",
    "        print(\" |            \")\n",
    "        print(\" |            \")\n",
    "\n",
    "    if(errores == 5):\n",
    "        print(\" |      (_)   \")\n",
    "        print(\" |      \\|/   \")\n",
    "        print(\" |       |    \")\n",
    "        print(\" |            \")\n",
    "\n",
    "    if(errores == 6):\n",
    "        print(\" |      (_)   \")\n",
    "        print(\" |      \\|/   \")\n",
    "        print(\" |       |    \")\n",
    "        print(\" |      /     \")\n",
    "\n",
    "    if (errores == 7):\n",
    "        print(\" |      (_)   \")\n",
    "        print(\" |      \\|/   \")\n",
    "        print(\" |       |    \")\n",
    "        print(\" |      / \\   \")\n",
    "\n",
    "    print(\" |            \")\n",
    "    print(\"|__         \")\n",
    "\n",
    "    \n",
    "    \n",
    "    ##funcion\n",
    "def dibujar_ahorcado2(errores,pasos_dibujo):\n",
    "    \n",
    "    \n",
    "    print(\"  ___     \")\n",
    "    print(\" |/      |    \")\n",
    "\n",
    "    if(errores == 1):                \n",
    "        for i in range (len(pasos_dibujo)):\n",
    "            pasos_dibujo=dibujar_ahorcado2(dibujar_parte_1)\n",
    "            \n",
    "            \n",
    "def dibujar_parte_1():\n",
    "    print(\" |      (_)   \")\n",
    "    print(\" |            \")\n",
    "    print(\" |            \")\n",
    "    print(\" |            \")\n",
    "def dibujar_parte_2():\n",
    "    print(\" |      (_)   \")\n",
    "    print(\" |      \\     \")\n",
    "    print(\" |            \")\n",
    "    print(\" |            \")\n",
    "\n",
    "def dibujar_parte_3():\n",
    "    print(\" |      (_)   \")\n",
    "    print(\" |      \\|    \")\n",
    "    print(\" |            \")\n",
    "    print(\" |            \")\n",
    "def dibujar_parte_4():\n",
    "    print(\" |      (_)   \")\n",
    "    print(\" |      \\|/   \")\n",
    "    print(\" |            \")\n",
    "    print(\" |            \")\n",
    "\n",
    "def dibujar_parte_5():\n",
    "    print(\" |      (_)   \")\n",
    "    print(\" |      \\|/   \")\n",
    "    print(\" |       |    \")\n",
    "    print(\" |            \")\n",
    "def dibujar_parte_6():\n",
    "\n",
    "    print(\" |      (_)   \")\n",
    "    print(\" |      \\|/   \")\n",
    "    print(\" |       |    \")\n",
    "    print(\" |      /     \")\n",
    "def dibujar_parte_7():\n",
    "\n",
    "    print(\" |      (_)   \")\n",
    "    print(\" |      \\|/   \")\n",
    "    print(\" |       |    \")\n",
    "    print(\" |      / \\   \")\n",
    "\n",
    "print(\" |            \")\n",
    "print(\"|__         \")\n",
    "\n",
    "\n",
    "        \n",
    "def calcular_iteraciones_dibujo(largo_palabra, pasos_dibujo):\n",
    "    # rellenar pasos_dibujo copn unos\n",
    "    for i in range(largo_palabra):\n",
    "        pasos_dibujo.append(1) #agregamos un 1 a la list\n",
    "    sumar_pasos= sum(pasos_dibujo)## sumamos el conteniado de la list\n",
    "\n",
    "    while(sumar_pasos< 7 and largo_palabra<7):##cuando la palabra tiene menor que 7 letras \n",
    "     ## ciclo para recorrer pasos_dibujo\n",
    "         for i in range(largo_palabra):\n",
    "                pasos_dibujo[i]=pasos_dibujo[i]+1\n",
    "                sumar_pasos=sum(pasos_dibujo)## sumamos el contenido de la list\n",
    "                if(sumar_pasos==7):\n",
    "                    break\n",
    "\n",
    "    while(sumar_pasos> 7 and largo_palabra>7):##cuando la palabra tiene menor que 7 letras \n",
    "         for i in range(largo_palabra):\n",
    "            if i % 2  != 0:\n",
    "                pasos_dibujo[i]=0\n",
    "                sumar_pasos=sum(pasos_dibujo)## sumamos el contenido de la list\n",
    "                if(sumar_pasos==7):\n",
    "                    break\n",
    "                    \n",
    "    return pasos_dibujo # sumar_pasos #pasos_dibujo\n",
    "\n",
    "def jugar ():\n",
    "    imprimir_mensaje_inicial()\n",
    "    palabra_secreta=definir_palabra_secreta()\n",
    "    letras_acertadas=inicializar_letras_acertadas(palabra_secreta)\n",
    "    \n",
    "    ahorcado = False\n",
    "    acerto = False\n",
    "    errores=0   # contador de errorres\n",
    "    pasos_dibujo= [] \n",
    "    pasos_dibujo= calcular_iteraciones_dibujo(len(palabra_secreta),pasos_dibujo)\n",
    "    print(pasos_dibujo)\n",
    "    \n",
    "    \n",
    "    \n",
    "    print(letras_acertadas)\n",
    "    while ( not ahorcado and not acerto ):\n",
    "        entrada=leer_entrada()\n",
    "        if entrada in palabra_secreta:\n",
    "            marcar_entrada_correcta(entrada,palabra_secreta,letras_acertadas)  \n",
    "        else:\n",
    "            errores += 1\n",
    "            dibujar_ahorcado(errores, pasos_dibujo)\n",
    "            \n",
    "        ahorcado=errores== medir_largo_palabra(palabra_secreta) #largo de la palabra\n",
    "        acerto= \"_\" not in letras_acertadas\n",
    "        print(letras_acertadas)       \n",
    "    if(acerto):\n",
    "        imprimir_mensaje_ganador()\n",
    "    else:\n",
    "        imprimir_mensaje_perdedor(palabra_secreta)\n",
    "    print(\"Fin del Juego\")\n",
    "    \n",
    "if(__name__== \"__main__\"):\n",
    "\n",
    "    jugar()"
   ]
  },
  {
   "cell_type": "code",
   "execution_count": null,
   "metadata": {},
   "outputs": [],
   "source": []
  },
  {
   "cell_type": "code",
   "execution_count": null,
   "metadata": {},
   "outputs": [],
   "source": []
  }
 ],
 "metadata": {
  "colab": {
   "collapsed_sections": [
    "J06R7nSV4GK8",
    "MBRXFh4356As",
    "d6a0_6V8CfhC",
    "Vuvk6KCQCjci",
    "-Pgm9b7VFk1S",
    "xxtJei7RH_bR",
    "zJsIOBhIKiKx"
   ],
   "provenance": []
  },
  "kernelspec": {
   "display_name": "Python 3 (ipykernel)",
   "language": "python",
   "name": "python3"
  },
  "language_info": {
   "codemirror_mode": {
    "name": "ipython",
    "version": 3
   },
   "file_extension": ".py",
   "mimetype": "text/x-python",
   "name": "python",
   "nbconvert_exporter": "python",
   "pygments_lexer": "ipython3",
   "version": "3.9.13"
  }
 },
 "nbformat": 4,
 "nbformat_minor": 1
}
